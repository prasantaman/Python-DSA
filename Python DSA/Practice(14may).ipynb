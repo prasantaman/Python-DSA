{
 "cells": [
  {
   "cell_type": "code",
   "execution_count": 1,
   "id": "1b0efde7",
   "metadata": {},
   "outputs": [
    {
     "name": "stdout",
     "output_type": "stream",
     "text": [
      "my name is India, and i am from Prasant\n"
     ]
    }
   ],
   "source": [
    "# fstring(27)\n",
    "letter = \"my name is {}, and i am from {}\"\n",
    "country = \"India\"\n",
    "name = \"Prasant\"\n",
    "print(letter.format(country, name))"
   ]
  },
  {
   "cell_type": "code",
   "execution_count": 7,
   "id": "b7c8bc95",
   "metadata": {},
   "outputs": [
    {
     "name": "stdout",
     "output_type": "stream",
     "text": [
      "my work is Wandering forest, and i like Google \n",
      "my work is Google , and i like Wandering forest\n"
     ]
    }
   ],
   "source": [
    "letter = \"my work is {0}, and i like {1}\"\n",
    "work = \"Google \"\n",
    "like = \"Wandering forest\"\n",
    "print(letter.format(like, work))\n",
    "print(f\"my work is {work}, and i like {like}\")"
   ]
  },
  {
   "cell_type": "code",
   "execution_count": 11,
   "id": "359b98f9",
   "metadata": {},
   "outputs": [
    {
     "name": "stdout",
     "output_type": "stream",
     "text": [
      "for only 39.33 dollars\n"
     ]
    }
   ],
   "source": [
    "txt = \"for only {price:.2f} dollars\"\n",
    "print(txt.format(price = 39.334242344))\n"
   ]
  },
  {
   "cell_type": "code",
   "execution_count": 13,
   "id": "504be377",
   "metadata": {},
   "outputs": [
    {
     "name": "stdout",
     "output_type": "stream",
     "text": [
      "for price 49.33\n"
     ]
    }
   ],
   "source": [
    "price = 49.332323\n",
    "txt = f\"for price {price:.2f}\"\n",
    "print(txt)\n"
   ]
  },
  {
   "cell_type": "code",
   "execution_count": 14,
   "id": "48e2d9b9",
   "metadata": {},
   "outputs": [
    {
     "name": "stdout",
     "output_type": "stream",
     "text": [
      "60\n"
     ]
    }
   ],
   "source": [
    "print(f\"{2*30}\")"
   ]
  },
  {
   "cell_type": "code",
   "execution_count": 15,
   "id": "cee76202",
   "metadata": {},
   "outputs": [
    {
     "name": "stdout",
     "output_type": "stream",
     "text": [
      "<class 'str'>\n"
     ]
    }
   ],
   "source": [
    "print(type(f\"{2*34}\"))"
   ]
  },
  {
   "cell_type": "code",
   "execution_count": 16,
   "id": "7298998d",
   "metadata": {},
   "outputs": [
    {
     "name": "stdout",
     "output_type": "stream",
     "text": [
      "for only {price:.2f} dollars\n"
     ]
    }
   ],
   "source": [
    "txt = f\"for only {{price:.2f}} dollars\"\n",
    "print(txt)"
   ]
  },
  {
   "cell_type": "code",
   "execution_count": 4,
   "id": "5bd97610",
   "metadata": {},
   "outputs": [
    {
     "name": "stdout",
     "output_type": "stream",
     "text": [
      "25\n",
      "Takes in a number n, return the square root of the n\n"
     ]
    }
   ],
   "source": [
    "# docstring\n",
    "def square(n):\n",
    "    '''Takes in a number n, return the square root of the n'''\n",
    "    print(n**2)    \n",
    "square(5)\n",
    "print(square.__doc__)    "
   ]
  },
  {
   "cell_type": "code",
   "execution_count": 5,
   "id": "01ecad57",
   "metadata": {},
   "outputs": [
    {
     "name": "stdout",
     "output_type": "stream",
     "text": [
      "5\n",
      "25\n",
      "None\n"
     ]
    }
   ],
   "source": [
    "# docstring\n",
    "def square(n):\n",
    "    print(n)\n",
    "    '''Takes in a number n, return the square root of the n'''\n",
    "    print(n**2)    \n",
    "square(5)\n",
    "print(square.__doc__)  "
   ]
  },
  {
   "cell_type": "code",
   "execution_count": 6,
   "id": "006c0c93",
   "metadata": {},
   "outputs": [
    {
     "name": "stdout",
     "output_type": "stream",
     "text": [
      "The Zen of Python, by Tim Peters\n",
      "\n",
      "Beautiful is better than ugly.\n",
      "Explicit is better than implicit.\n",
      "Simple is better than complex.\n",
      "Complex is better than complicated.\n",
      "Flat is better than nested.\n",
      "Sparse is better than dense.\n",
      "Readability counts.\n",
      "Special cases aren't special enough to break the rules.\n",
      "Although practicality beats purity.\n",
      "Errors should never pass silently.\n",
      "Unless explicitly silenced.\n",
      "In the face of ambiguity, refuse the temptation to guess.\n",
      "There should be one-- and preferably only one --obvious way to do it.\n",
      "Although that way may not be obvious at first unless you're Dutch.\n",
      "Now is better than never.\n",
      "Although never is often better than *right* now.\n",
      "If the implementation is hard to explain, it's a bad idea.\n",
      "If the implementation is easy to explain, it may be a good idea.\n",
      "Namespaces are one honking great idea -- let's do more of those!\n"
     ]
    }
   ],
   "source": [
    "#pep 8\n",
    "import this\n"
   ]
  },
  {
   "cell_type": "code",
   "execution_count": 9,
   "id": "30a91927",
   "metadata": {},
   "outputs": [
    {
     "name": "stdout",
     "output_type": "stream",
     "text": [
      "{2, 3, 5, 6}\n"
     ]
    }
   ],
   "source": [
    "s = {2,3,5,6}\n",
    "print(s)"
   ]
  },
  {
   "cell_type": "code",
   "execution_count": 10,
   "id": "94c222ea",
   "metadata": {},
   "outputs": [
    {
     "name": "stdout",
     "output_type": "stream",
     "text": [
      "<class 'set'>\n"
     ]
    }
   ],
   "source": [
    "a = type(set())\n",
    "print(a)\n"
   ]
  },
  {
   "cell_type": "code",
   "execution_count": 13,
   "id": "03f64d98",
   "metadata": {},
   "outputs": [
    {
     "name": "stdout",
     "output_type": "stream",
     "text": [
      "enter an number: Prasant\n",
      "multiplication table of Prasant is:\n"
     ]
    },
    {
     "ename": "ValueError",
     "evalue": "invalid literal for int() with base 10: 'Prasant'",
     "output_type": "error",
     "traceback": [
      "\u001b[1;31m---------------------------------------------------------------------------\u001b[0m",
      "\u001b[1;31mValueError\u001b[0m                                Traceback (most recent call last)",
      "Cell \u001b[1;32mIn[13], line 5\u001b[0m\n\u001b[0;32m      3\u001b[0m \u001b[38;5;28mprint\u001b[39m(\u001b[38;5;124mf\u001b[39m\u001b[38;5;124m\"\u001b[39m\u001b[38;5;124mmultiplication table of \u001b[39m\u001b[38;5;132;01m{\u001b[39;00ma\u001b[38;5;132;01m}\u001b[39;00m\u001b[38;5;124m is:\u001b[39m\u001b[38;5;124m\"\u001b[39m )\n\u001b[0;32m      4\u001b[0m \u001b[38;5;28;01mfor\u001b[39;00m i \u001b[38;5;129;01min\u001b[39;00m \u001b[38;5;28mrange\u001b[39m(\u001b[38;5;241m1\u001b[39m,\u001b[38;5;241m11\u001b[39m):\n\u001b[1;32m----> 5\u001b[0m     \u001b[38;5;28mprint\u001b[39m(\u001b[38;5;124mf\u001b[39m\u001b[38;5;124m\"\u001b[39m\u001b[38;5;132;01m{\u001b[39;00m\u001b[38;5;28mint\u001b[39m(a)\u001b[38;5;132;01m}\u001b[39;00m\u001b[38;5;124mx\u001b[39m\u001b[38;5;132;01m{\u001b[39;00mi\u001b[38;5;132;01m}\u001b[39;00m\u001b[38;5;124m = \u001b[39m\u001b[38;5;132;01m{\u001b[39;00m\u001b[38;5;28mint\u001b[39m(a)\u001b[38;5;241m*\u001b[39mi\u001b[38;5;132;01m}\u001b[39;00m\u001b[38;5;124m\"\u001b[39m)\n\u001b[0;32m      6\u001b[0m \u001b[38;5;28mprint\u001b[39m(\u001b[38;5;124m\"\u001b[39m\u001b[38;5;124mPrasant and Pragati\u001b[39m\u001b[38;5;124m\"\u001b[39m)\n",
      "\u001b[1;31mValueError\u001b[0m: invalid literal for int() with base 10: 'Prasant'"
     ]
    }
   ],
   "source": [
    "# exception handeling\n",
    "a = input(\"enter an number: \")\n",
    "print(f\"multiplication table of {a} is:\" )\n",
    "for i in range(1,11):\n",
    "    print(f\"{int(a)}x{i} = {int(a)*i}\")\n",
    "print(\"Prasant and Pragati\")    \n",
    "      "
   ]
  },
  {
   "cell_type": "code",
   "execution_count": 19,
   "id": "cc888ab5",
   "metadata": {},
   "outputs": [],
   "source": [
    "list = [2,3,4,5,6, \"prasant\", \"34\",34.5, \"45.6\" ]\n",
    "list.append(8)\n"
   ]
  },
  {
   "cell_type": "code",
   "execution_count": 22,
   "id": "be524ca2",
   "metadata": {},
   "outputs": [
    {
     "name": "stdout",
     "output_type": "stream",
     "text": [
      "[2, 3, 4, 5, 6, 'prasant', '34', 34.5, '45.6', 8]\n",
      "<class 'list'>\n",
      "10\n"
     ]
    }
   ],
   "source": [
    "print(list)\n",
    "print(type(list))\n",
    "print(len(list))"
   ]
  },
  {
   "cell_type": "code",
   "execution_count": 27,
   "id": "f21781dc",
   "metadata": {},
   "outputs": [
    {
     "name": "stdout",
     "output_type": "stream",
     "text": [
      "[2, 3, 4, 5, 6, 'prasant', '34', 34.5, '45.6', 8, 'p', 'r', 'a', 's', 'a', 'n', 't', 'p', 'r', 'a', 's', 'a', 'n', 't']\n"
     ]
    }
   ],
   "source": [
    "list.extend('prasant')\n",
    "print(list)"
   ]
  },
  {
   "cell_type": "code",
   "execution_count": 36,
   "id": "0b73e10d",
   "metadata": {},
   "outputs": [
    {
     "name": "stdout",
     "output_type": "stream",
     "text": [
      "[]\n",
      "['s', 'a', 'n']\n",
      "[]\n",
      "[4, 5, 6, 'prasant', '34', 34.5, '45.6', 8, 'p', 'r', 'a', 's', 'a', 'n', 't', 'p', 'r', 'a']\n"
     ]
    }
   ],
   "source": [
    "print(list[-1:-4])\n",
    "print(list[-4:-1])\n",
    "print(list[-1:2])   \n",
    "print(list[2:-4])"
   ]
  },
  {
   "cell_type": "code",
   "execution_count": 38,
   "id": "b36877a4",
   "metadata": {},
   "outputs": [
    {
     "name": "stdout",
     "output_type": "stream",
     "text": [
      "[4, 'Pragati', 6]\n",
      "[2, 3, 4, 'Pragati', 6, 'prasant', '34', 34.5, '45.6', 8, 'p', 'r', 'a', 's', 'a', 'n', 't', 'p', 'r', 'a', 's', 'a', 'n', 't']\n"
     ]
    }
   ],
   "source": [
    "print(list[2:5])\n",
    "list[3] = \"Pragati\"\n",
    "print(list)"
   ]
  },
  {
   "cell_type": "code",
   "execution_count": 47,
   "id": "fbddb9cb",
   "metadata": {},
   "outputs": [
    {
     "name": "stdout",
     "output_type": "stream",
     "text": [
      "[2, 3, 4, 'Pragati', 6, 'prasant', '34', 34.5, '45.6', 8, 'p', 'r', 'a', 's', 'a', 'n', 't', 'p', 'r', 'a', 's', 'a', 'n', 't', 2, 3, 'Prasant', 'pragati', 2, 3, 'Prasant', 'pragati', 2, 3, 'Prasant', 'pragati', 2, 3, 'Prasant', 'pragati', 2, 3, 'Prasant', 'pragati', 2, 3, 'Prasant', 'pragati']\n"
     ]
    }
   ],
   "source": [
    "\n",
    "list.extend([2,3,\"Prasant\", \"pragati\"])\n",
    "print(list)\n"
   ]
  },
  {
   "cell_type": "code",
   "execution_count": 48,
   "id": "dda4b2cb",
   "metadata": {},
   "outputs": [
    {
     "name": "stdout",
     "output_type": "stream",
     "text": [
      "[1, 2, 3, 'prasant', 'pragati', '+']\n"
     ]
    }
   ],
   "source": [
    "list1 = [1,2,3,\"prasant\", 'pragati', '+']\n",
    "print(list1)"
   ]
  },
  {
   "cell_type": "code",
   "execution_count": 52,
   "id": "df3c1249",
   "metadata": {},
   "outputs": [
    {
     "name": "stdout",
     "output_type": "stream",
     "text": [
      "[1, 'prabhat', 10, 2, 3, 'prasant', 'pragati', '+']\n"
     ]
    }
   ],
   "source": [
    "list1.insert(1,\"prabhat\")\n",
    "print(list1)"
   ]
  },
  {
   "cell_type": "code",
   "execution_count": 56,
   "id": "4937f954",
   "metadata": {},
   "outputs": [],
   "source": [
    "list1.remove(3)\n"
   ]
  },
  {
   "cell_type": "code",
   "execution_count": 57,
   "id": "31a3356f",
   "metadata": {},
   "outputs": [
    {
     "name": "stdout",
     "output_type": "stream",
     "text": [
      "[1, 'prabhat', 10, 'prasant', 'pragati', '+']\n"
     ]
    }
   ],
   "source": [
    "print(list1)"
   ]
  },
  {
   "cell_type": "code",
   "execution_count": 58,
   "id": "6347453e",
   "metadata": {},
   "outputs": [
    {
     "data": {
      "text/plain": [
       "'prabhat'"
      ]
     },
     "execution_count": 58,
     "metadata": {},
     "output_type": "execute_result"
    }
   ],
   "source": [
    "list1.pop(1)"
   ]
  },
  {
   "cell_type": "code",
   "execution_count": 59,
   "id": "55376fb1",
   "metadata": {},
   "outputs": [
    {
     "name": "stdout",
     "output_type": "stream",
     "text": [
      "[1, 10, 'prasant', 'pragati', '+']\n"
     ]
    }
   ],
   "source": [
    "print(list1)"
   ]
  },
  {
   "cell_type": "code",
   "execution_count": 60,
   "id": "bcd1a79d",
   "metadata": {},
   "outputs": [
    {
     "name": "stdout",
     "output_type": "stream",
     "text": [
      "1\n"
     ]
    }
   ],
   "source": [
    "my_list = [1, 2, 3, 2]\n",
    "index = my_list.index(2)\n",
    "print(index)  # Output: 1\n"
   ]
  },
  {
   "cell_type": "code",
   "execution_count": 5,
   "id": "ce4defc4",
   "metadata": {},
   "outputs": [
    {
     "name": "stdout",
     "output_type": "stream",
     "text": [
      "None\n"
     ]
    }
   ],
   "source": [
    "list_2 = [1,2,5,2,5,2]\n",
    "print(list_2.sort())"
   ]
  },
  {
   "cell_type": "code",
   "execution_count": 3,
   "id": "bbdbf24b",
   "metadata": {},
   "outputs": [
    {
     "name": "stdout",
     "output_type": "stream",
     "text": [
      "[1, 2, 3]\n"
     ]
    }
   ],
   "source": [
    "my_list = [3, 1, 2]\n",
    "my_list.sort()\n",
    "print(my_list)  # Output: [1, 2, 3]\n"
   ]
  },
  {
   "cell_type": "code",
   "execution_count": 11,
   "id": "cc45ad63",
   "metadata": {},
   "outputs": [
    {
     "ename": "SyntaxError",
     "evalue": "invalid syntax. Maybe you meant '==' or ':=' instead of '='? (2713192212.py, line 7)",
     "output_type": "error",
     "traceback": [
      "\u001b[1;36m  Cell \u001b[1;32mIn[11], line 7\u001b[1;36m\u001b[0m\n\u001b[1;33m    fruits = ([\"man\", \"sdf\", \"sdf\", \"ter\", \"sdf\"], end = \"\")\u001b[0m\n\u001b[1;37m                                                   ^\u001b[0m\n\u001b[1;31mSyntaxError\u001b[0m\u001b[1;31m:\u001b[0m invalid syntax. Maybe you meant '==' or ':=' instead of '='?\n"
     ]
    }
   ],
   "source": [
    "def print_list(list, idx=0):\n",
    "    if(idx==len(list)):\n",
    "        return \n",
    "    print(list[idx])\n",
    "    print_list(list,idx+1)\n",
    "\n",
    "fruits = ([\"man\", \"sdf\", \"sdf\", \"ter\", \"sdf\"], end = \"\")\n",
    "print_list(fruits)"
   ]
  },
  {
   "cell_type": "code",
   "execution_count": 17,
   "id": "5f1a64c8",
   "metadata": {},
   "outputs": [
    {
     "name": "stdout",
     "output_type": "stream",
     "text": [
      "1\n",
      "2\n",
      "3\n",
      "4\n",
      "5\n",
      "6\n"
     ]
    }
   ],
   "source": [
    "list = [1,2,3,4,5,6]\n",
    "idx = 0\n",
    "for i in list:\n",
    "    print(list[idx])\n",
    "    idx +=1"
   ]
  },
  {
   "cell_type": "code",
   "execution_count": 20,
   "id": "77730e96",
   "metadata": {},
   "outputs": [
    {
     "name": "stdout",
     "output_type": "stream",
     "text": [
      "10 2 5 4 5 6 "
     ]
    }
   ],
   "source": [
    "list = [10,2,5,4,5,6]\n",
    "idx = 0\n",
    "for i in list:\n",
    "    print(list[idx], end = \" \")\n",
    "    idx +=1"
   ]
  },
  {
   "cell_type": "code",
   "execution_count": 7,
   "id": "3cd17b53",
   "metadata": {},
   "outputs": [
    {
     "name": "stdout",
     "output_type": "stream",
     "text": [
      "10 2 5 4 5 6 "
     ]
    }
   ],
   "source": [
    "list = [10,2,5,4,5,6]\n",
    "idx = 0\n",
    "while idx<len(list):\n",
    "    print(list[idx], end = \" \")\n",
    "    idx +=1"
   ]
  },
  {
   "cell_type": "code",
   "execution_count": 9,
   "id": "4f65029c",
   "metadata": {},
   "outputs": [
    {
     "name": "stdout",
     "output_type": "stream",
     "text": [
      "['apple', 'akitl', 'adfef', 'adfse']\n"
     ]
    }
   ],
   "source": [
    "list = [\"apple\", \"akitl\", \"adfef\", \"adfse\", \"dfdfdsfsd\"]\n",
    "newlist = []\n",
    "for x in list:\n",
    "    if \"a\" in x:\n",
    "        newlist.append(x)\n",
    "\n",
    "print(newlist)        "
   ]
  },
  {
   "cell_type": "code",
   "execution_count": 11,
   "id": "17d4fabf",
   "metadata": {},
   "outputs": [
    {
     "ename": "NameError",
     "evalue": "name 'fruits' is not defined",
     "output_type": "error",
     "traceback": [
      "\u001b[1;31m---------------------------------------------------------------------------\u001b[0m",
      "\u001b[1;31mNameError\u001b[0m                                 Traceback (most recent call last)",
      "Cell \u001b[1;32mIn[11], line 2\u001b[0m\n\u001b[0;32m      1\u001b[0m \u001b[38;5;28mlist\u001b[39m \u001b[38;5;241m=\u001b[39m [\u001b[38;5;124m\"\u001b[39m\u001b[38;5;124mapple\u001b[39m\u001b[38;5;124m\"\u001b[39m, \u001b[38;5;124m\"\u001b[39m\u001b[38;5;124makitl\u001b[39m\u001b[38;5;124m\"\u001b[39m, \u001b[38;5;124m\"\u001b[39m\u001b[38;5;124madfef\u001b[39m\u001b[38;5;124m\"\u001b[39m, \u001b[38;5;124m\"\u001b[39m\u001b[38;5;124madfse\u001b[39m\u001b[38;5;124m\"\u001b[39m, \u001b[38;5;124m\"\u001b[39m\u001b[38;5;124mdfdfdsfsd\u001b[39m\u001b[38;5;124m\"\u001b[39m]\n\u001b[1;32m----> 2\u001b[0m newlist \u001b[38;5;241m=\u001b[39m [s \u001b[38;5;28;01mfor\u001b[39;00m s \u001b[38;5;129;01min\u001b[39;00m fruits \u001b[38;5;28;01mif\u001b[39;00m \u001b[38;5;124m\"\u001b[39m\u001b[38;5;124ma\u001b[39m\u001b[38;5;124m\"\u001b[39m \u001b[38;5;129;01min\u001b[39;00m x]\n\u001b[0;32m      3\u001b[0m \u001b[38;5;28mprint\u001b[39m(newlist)\n",
      "\u001b[1;31mNameError\u001b[0m: name 'fruits' is not defined"
     ]
    }
   ],
   "source": [
    "list = [\"apple\", \"akitl\", \"adfef\", \"adfse\", \"dfdfdsfsd\"] # newlist = [expression for item in iterable if condition == True]\n",
    "newlist = [s for s in fruits if \"a\" in x]\n",
    "print(newlist)"
   ]
  },
  {
   "cell_type": "code",
   "execution_count": 12,
   "id": "a67c4d9a",
   "metadata": {},
   "outputs": [
    {
     "name": "stdout",
     "output_type": "stream",
     "text": [
      "[1, 2, 2, 3, 4, 5]\n"
     ]
    }
   ],
   "source": [
    "a = [ 1,2,2,4,5,3]\n",
    "a.sort()\n",
    "print(a)"
   ]
  },
  {
   "cell_type": "code",
   "execution_count": 13,
   "id": "fe024a44",
   "metadata": {},
   "outputs": [
    {
     "name": "stdout",
     "output_type": "stream",
     "text": [
      "[5, 4, 3, 2, 2, 1]\n"
     ]
    }
   ],
   "source": [
    "a = [ 1,2,2,4,5,3]\n",
    "a.sort(reverse = True)\n",
    "print(a)"
   ]
  },
  {
   "cell_type": "code",
   "execution_count": 15,
   "id": "ebcfa8ca",
   "metadata": {},
   "outputs": [
    {
     "name": "stdout",
     "output_type": "stream",
     "text": [
      "['priya', 'prasant', 'pragati', 'banana']\n"
     ]
    }
   ],
   "source": [
    "a = [\"banana\", \"prasant\", \"pragati\", \"priya\"]\n",
    "a.sort(reverse = True)\n",
    "print(a)"
   ]
  },
  {
   "cell_type": "code",
   "execution_count": 24,
   "id": "4d9c9711",
   "metadata": {},
   "outputs": [
    {
     "name": "stdout",
     "output_type": "stream",
     "text": [
      "[1, 2, 4, 4, 5, 3]\n"
     ]
    }
   ],
   "source": [
    "# join two list \n",
    "list = [1,2,4]\n",
    "list1 = [4,5,3]\n",
    "list2 = list + list1\n",
    "print(list2)"
   ]
  },
  {
   "cell_type": "code",
   "execution_count": 25,
   "id": "ea4af1cf",
   "metadata": {},
   "outputs": [],
   "source": [
    "list1 = [\"prasant\", \"pragati\", \"priya\", \"aman\", \"kajal\", \"lilo\"]\n",
    "list2 = [1,3,4,5,6]\n",
    "list3 = list1 + list2"
   ]
  },
  {
   "cell_type": "code",
   "execution_count": 26,
   "id": "e3a3f94e",
   "metadata": {},
   "outputs": [
    {
     "name": "stdout",
     "output_type": "stream",
     "text": [
      "['prasant', 'pragati', 'priya', 'aman', 'kajal', 'lilo', 1, 3, 4, 5, 6]\n"
     ]
    }
   ],
   "source": [
    "print(list3)"
   ]
  },
  {
   "cell_type": "code",
   "execution_count": 30,
   "id": "dddd9720",
   "metadata": {},
   "outputs": [
    {
     "name": "stdout",
     "output_type": "stream",
     "text": [
      "[1, 2, 3, 4, 5, 3]\n"
     ]
    }
   ],
   "source": [
    "# append\n",
    "list1 = [1,2,3,4,5]\n",
    "list2 = [\"Prasant\", \"pragati\", \"priya\", \"priyanshu\"]\n",
    "list1.append(3)\n",
    "print(list1)"
   ]
  },
  {
   "cell_type": "code",
   "execution_count": 34,
   "id": "0da28ee2",
   "metadata": {},
   "outputs": [
    {
     "name": "stdout",
     "output_type": "stream",
     "text": [
      "['Prasant', 'pragati', 'priya', 'priyanshu', 'p', 'r', 'a', 's', 'a', 'n', 't', 'p', 'r', 'a', 's', 'a', 'n', 't']\n"
     ]
    }
   ],
   "source": [
    "# extend\n",
    "list2.extend(\"prasant\")\n",
    "print(list2)"
   ]
  },
  {
   "cell_type": "code",
   "execution_count": 36,
   "id": "dc9783c5",
   "metadata": {},
   "outputs": [
    {
     "name": "stdout",
     "output_type": "stream",
     "text": [
      "[1, 2, 3, 3, 4, 5]\n"
     ]
    }
   ],
   "source": [
    "#sort\n",
    "list1.sort()\n",
    "print(list1)"
   ]
  },
  {
   "cell_type": "code",
   "execution_count": 38,
   "id": "9e288e75",
   "metadata": {},
   "outputs": [
    {
     "name": "stdout",
     "output_type": "stream",
     "text": [
      "[5, 4, 3, 3, 2, 1]\n"
     ]
    }
   ],
   "source": [
    "# sort in reverse order\n",
    "list1.sort(reverse = True)\n",
    "print(list1)"
   ]
  },
  {
   "cell_type": "code",
   "execution_count": 6,
   "id": "610a8973",
   "metadata": {},
   "outputs": [
    {
     "name": "stdout",
     "output_type": "stream",
     "text": [
      "1\n"
     ]
    }
   ],
   "source": [
    "# count\n",
    "list1 = [1,2,3,4,5]\n",
    "list2 = [\"Prasant\", \"pragati\", \"priya\", \"priyanshu\"]\n",
    "a = list1.count(2)\n",
    "print(a)"
   ]
  },
  {
   "cell_type": "code",
   "execution_count": 8,
   "id": "11c2da23",
   "metadata": {},
   "outputs": [
    {
     "data": {
      "text/plain": [
       "3"
      ]
     },
     "execution_count": 8,
     "metadata": {},
     "output_type": "execute_result"
    }
   ],
   "source": [
    "# pop\n",
    "list1 = [1,2,3,4,5]\n",
    "list1.pop(2)\n"
   ]
  },
  {
   "cell_type": "code",
   "execution_count": 10,
   "id": "fca4c2c8",
   "metadata": {},
   "outputs": [
    {
     "name": "stdout",
     "output_type": "stream",
     "text": [
      "[]\n"
     ]
    }
   ],
   "source": [
    "#clear\n",
    "list1.clear()\n",
    "print(list1)"
   ]
  },
  {
   "cell_type": "code",
   "execution_count": null,
   "id": "0082cf6f",
   "metadata": {},
   "outputs": [],
   "source": [
    "# Tuple functions"
   ]
  }
 ],
 "metadata": {
  "kernelspec": {
   "display_name": "Python 3 (ipykernel)",
   "language": "python",
   "name": "python3"
  },
  "language_info": {
   "codemirror_mode": {
    "name": "ipython",
    "version": 3
   },
   "file_extension": ".py",
   "mimetype": "text/x-python",
   "name": "python",
   "nbconvert_exporter": "python",
   "pygments_lexer": "ipython3",
   "version": "3.11.5"
  }
 },
 "nbformat": 4,
 "nbformat_minor": 5
}
