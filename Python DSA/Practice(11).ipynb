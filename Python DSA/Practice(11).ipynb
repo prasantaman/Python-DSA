{
 "cells": [
  {
   "cell_type": "code",
   "execution_count": 1,
   "id": "106392df",
   "metadata": {},
   "outputs": [
    {
     "name": "stdout",
     "output_type": "stream",
     "text": [
      "finding...\n",
      "finding...\n",
      "finding...\n",
      "finding...\n",
      "found 4\n",
      "finding...\n",
      "finding...\n",
      "finding...\n",
      "finding...\n",
      "finding...\n"
     ]
    }
   ],
   "source": [
    "nums = (2,4,5,6,45,4,65,34,65,54) # search element in tuple\n",
    "x = 45\n",
    "i = 0\n",
    "while i<len(nums):\n",
    "    if(nums[i]==x):\n",
    "        print(\"found\",i)\n",
    "    \n",
    "    else:\n",
    "        print(\"finding...\")\n",
    "    i+=1    "
   ]
  },
  {
   "cell_type": "code",
   "execution_count": 2,
   "id": "36bd427a",
   "metadata": {},
   "outputs": [
    {
     "name": "stdout",
     "output_type": "stream",
     "text": [
      "1\n",
      "2\n",
      "4\n",
      "5\n"
     ]
    }
   ],
   "source": [
    "i = 1 # continue\n",
    "while i<= 5:\n",
    "    if(i==3):\n",
    "        i+=1\n",
    "        continue\n",
    "    print(i)\n",
    "    i+=1    "
   ]
  },
  {
   "cell_type": "code",
   "execution_count": 3,
   "id": "a9e3c626",
   "metadata": {},
   "outputs": [
    {
     "name": "stdout",
     "output_type": "stream",
     "text": [
      "1 3 5 6 6 7 "
     ]
    }
   ],
   "source": [
    "list = [1,3,5,6,6,7] #print list\n",
    "for i in list:\n",
    "    print(i, end = \" \")"
   ]
  },
  {
   "cell_type": "code",
   "execution_count": 6,
   "id": "05abc42f",
   "metadata": {},
   "outputs": [
    {
     "name": "stdout",
     "output_type": "stream",
     "text": [
      "p\n",
      "r\n",
      "a\n",
      "found\n",
      "end\n"
     ]
    }
   ],
   "source": [
    "str = \"prasant\" # found string index using for loop\n",
    "for i in str:\n",
    "    if(i=='s'):\n",
    "        print(\"found\")\n",
    "        break\n",
    "    print(i)   \n",
    "print(\"end\") \n",
    "   \n",
    "    "
   ]
  },
  {
   "cell_type": "code",
   "execution_count": 7,
   "id": "dfa842b9",
   "metadata": {},
   "outputs": [
    {
     "name": "stdout",
     "output_type": "stream",
     "text": [
      "6\n"
     ]
    }
   ],
   "source": [
    "nums = (2,3,53,54,54,65,756,75)\n",
    "x = 756\n",
    "idx = 0\n",
    "for i in nums:\n",
    "    if(i==x):\n",
    "        print(idx)\n",
    "    idx+=1    "
   ]
  },
  {
   "cell_type": "code",
   "execution_count": 8,
   "id": "fc870f86",
   "metadata": {},
   "outputs": [
    {
     "name": "stdout",
     "output_type": "stream",
     "text": [
      "0\n",
      "2\n",
      "4\n",
      "6\n",
      "8\n",
      "10\n"
     ]
    }
   ],
   "source": [
    "i = 1\n",
    "for i in range(0,11,2):\n",
    "    print(i)"
   ]
  },
  {
   "cell_type": "code",
   "execution_count": 32,
   "id": "44ce96af",
   "metadata": {},
   "outputs": [
    {
     "name": "stdout",
     "output_type": "stream",
     "text": [
      "10\n",
      "9\n",
      "8\n",
      "7\n",
      "6\n",
      "5\n",
      "4\n",
      "3\n",
      "2\n",
      "1\n"
     ]
    }
   ],
   "source": [
    "for i in range(10, 0, -1):\n",
    "    print(i)\n"
   ]
  },
  {
   "cell_type": "code",
   "execution_count": 33,
   "id": "e4e305e3",
   "metadata": {},
   "outputs": [
    {
     "name": "stdout",
     "output_type": "stream",
     "text": [
      "enter number: 2\n",
      "2\n",
      "4\n",
      "6\n",
      "8\n",
      "10\n",
      "12\n",
      "14\n",
      "16\n",
      "18\n",
      "20\n"
     ]
    }
   ],
   "source": [
    "n = int(input(\"enter number: \"))\n",
    "for i in range(1, 11):\n",
    "    print(i*n)"
   ]
  },
  {
   "cell_type": "code",
   "execution_count": 34,
   "id": "d842a8b8",
   "metadata": {},
   "outputs": [
    {
     "name": "stdout",
     "output_type": "stream",
     "text": [
      "Thank you\n"
     ]
    }
   ],
   "source": [
    "for n in range(5): # pass\n",
    "    pass\n",
    "print(\"Thank you\")"
   ]
  },
  {
   "cell_type": "code",
   "execution_count": 9,
   "id": "8476874b",
   "metadata": {},
   "outputs": [
    {
     "name": "stdout",
     "output_type": "stream",
     "text": [
      "enter an number: 7\n",
      "28\n"
     ]
    }
   ],
   "source": [
    "n = int(input(\"enter an number: \")) # print sum of n numbers using for loop \n",
    "sum = 0\n",
    "for i in range(1, n+1):\n",
    "    sum+=i\n",
    "print(sum)\n",
    "    "
   ]
  },
  {
   "cell_type": "code",
   "execution_count": 10,
   "id": "cfbb5a58",
   "metadata": {},
   "outputs": [
    {
     "name": "stdout",
     "output_type": "stream",
     "text": [
      "enter an number: 3\n",
      "6\n"
     ]
    }
   ],
   "source": [
    "n = int(input(\"enter an number: \"))# print sum of n numbers using while loop \n",
    "sum = 0\n",
    "i = 1\n",
    "while i<=n:\n",
    "    sum+=i\n",
    "    i +=1\n",
    "print(sum)    "
   ]
  },
  {
   "cell_type": "code",
   "execution_count": 2,
   "id": "2a2ab40e",
   "metadata": {},
   "outputs": [
    {
     "name": "stdout",
     "output_type": "stream",
     "text": [
      "120\n"
     ]
    }
   ],
   "source": [
    "i = 1# factorial\n",
    "n = 5\n",
    "fact = 1\n",
    "while i<=n:\n",
    "    fact *=i\n",
    "    i+=1\n",
    "print(fact)    "
   ]
  },
  {
   "cell_type": "code",
   "execution_count": 11,
   "id": "3c78fc22",
   "metadata": {},
   "outputs": [
    {
     "name": "stdout",
     "output_type": "stream",
     "text": [
      "120\n"
     ]
    }
   ],
   "source": [
    "fact = 1\n",
    "n = 5\n",
    "for i in range(1, n+1):\n",
    "    fact*=i\n",
    "print(fact)    "
   ]
  },
  {
   "cell_type": "code",
   "execution_count": 4,
   "id": "7465ebfc",
   "metadata": {},
   "outputs": [
    {
     "name": "stdout",
     "output_type": "stream",
     "text": [
      "5\n"
     ]
    }
   ],
   "source": [
    "# functions\n",
    "def calc_sum(a,b):\n",
    "    sum = print(a+b)\n",
    "    return sum\n",
    "calc_sum(2,3)    "
   ]
  },
  {
   "cell_type": "code",
   "execution_count": 11,
   "id": "dcf6be43",
   "metadata": {},
   "outputs": [
    {
     "name": "stdout",
     "output_type": "stream",
     "text": [
      "Hello\n",
      "None\n"
     ]
    }
   ],
   "source": [
    "def print_hello():# hello function without parameters and arguments\n",
    "    print(\"Hello\")\n",
    "    \n",
    "output = print_hello()  \n",
    "print(output)   "
   ]
  },
  {
   "cell_type": "code",
   "execution_count": 13,
   "id": "ef4059c8",
   "metadata": {},
   "outputs": [
    {
     "data": {
      "text/plain": [
       "2.6666666666666665"
      ]
     },
     "execution_count": 13,
     "metadata": {},
     "output_type": "execute_result"
    }
   ],
   "source": [
    "def calc_avg(a,b,c):# avg function\n",
    "    sum = a+b+c\n",
    "    avg = sum/3\n",
    "    return avg\n",
    "calc_avg(1,3,4)"
   ]
  },
  {
   "cell_type": "code",
   "execution_count": 3,
   "id": "36f2fae5",
   "metadata": {},
   "outputs": [
    {
     "name": "stdout",
     "output_type": "stream",
     "text": [
      "dep\n",
      "Prasant sahu deepak\n",
      "Kalyan\n"
     ]
    }
   ],
   "source": [
    "print(\"dep\")\n",
    "print(\"Prasant\", \"sahu\", end = \" \")\n",
    "print(\"deepak\")\n",
    "print(\"Kalyan\")\n"
   ]
  },
  {
   "cell_type": "code",
   "execution_count": 22,
   "id": "9ab33c1b",
   "metadata": {},
   "outputs": [
    {
     "name": "stdout",
     "output_type": "stream",
     "text": [
      "1\n"
     ]
    },
    {
     "data": {
      "text/plain": [
       "1"
      ]
     },
     "execution_count": 22,
     "metadata": {},
     "output_type": "execute_result"
    }
   ],
   "source": [
    "def calc_prod(a=1,b=1):# default\n",
    "    print(a*b)\n",
    "    return a*b\n",
    "calc_prod()"
   ]
  },
  {
   "cell_type": "code",
   "execution_count": 23,
   "id": "19c76ebe",
   "metadata": {},
   "outputs": [
    {
     "name": "stdout",
     "output_type": "stream",
     "text": [
      "2\n"
     ]
    },
    {
     "data": {
      "text/plain": [
       "2"
      ]
     },
     "execution_count": 23,
     "metadata": {},
     "output_type": "execute_result"
    }
   ],
   "source": [
    "def calc_prod(a,b=1):\n",
    "    print(a*b)\n",
    "    return a*b\n",
    "calc_prod(2)"
   ]
  },
  {
   "cell_type": "code",
   "execution_count": 24,
   "id": "a11ad605",
   "metadata": {},
   "outputs": [
    {
     "ename": "SyntaxError",
     "evalue": "non-default argument follows default argument (2408324922.py, line 1)",
     "output_type": "error",
     "traceback": [
      "\u001b[1;36m  Cell \u001b[1;32mIn[24], line 1\u001b[1;36m\u001b[0m\n\u001b[1;33m    def calc_prod(a=1,b):\u001b[0m\n\u001b[1;37m                      ^\u001b[0m\n\u001b[1;31mSyntaxError\u001b[0m\u001b[1;31m:\u001b[0m non-default argument follows default argument\n"
     ]
    }
   ],
   "source": [
    "def calc_prod(a=1,b):\n",
    "    print(a*b)\n",
    "    return a*b\n",
    "calc_prod(2)"
   ]
  },
  {
   "cell_type": "code",
   "execution_count": 28,
   "id": "deac8dcf",
   "metadata": {},
   "outputs": [
    {
     "name": "stdout",
     "output_type": "stream",
     "text": [
      "4\n",
      "7\n"
     ]
    }
   ],
   "source": [
    "cities = [\"prasant\", \"pragati\", \"priya\", \"pri\"]# function to print len\n",
    "heros = [2,3,4,54,64,34,34]\n",
    "def print_len(cities):\n",
    "    print(len(cities))\n",
    "print_len(cities) \n",
    "print_len(heros)"
   ]
  },
  {
   "cell_type": "code",
   "execution_count": 31,
   "id": "18c47802",
   "metadata": {},
   "outputs": [
    {
     "name": "stdout",
     "output_type": "stream",
     "text": [
      "2 3 "
     ]
    }
   ],
   "source": [
    "print(heros[0], end = \" \")\n",
    "print(heros[1], end = \" \")"
   ]
  },
  {
   "cell_type": "code",
   "execution_count": 40,
   "id": "a7dbe75e",
   "metadata": {},
   "outputs": [
    {
     "name": "stdout",
     "output_type": "stream",
     "text": [
      "2 3 4 54 64 34 34 prasant pragati priya pri "
     ]
    }
   ],
   "source": [
    "def print_list(list):\n",
    "    for item in list:\n",
    "        print(item, end=\" \")\n",
    "print_list(heros)  \n",
    "print_list(cities)"
   ]
  },
  {
   "cell_type": "code",
   "execution_count": 4,
   "id": "d54db285",
   "metadata": {},
   "outputs": [
    {
     "name": "stdout",
     "output_type": "stream",
     "text": [
      "24\n",
      "720\n"
     ]
    },
    {
     "data": {
      "text/plain": [
       "720"
      ]
     },
     "execution_count": 4,
     "metadata": {},
     "output_type": "execute_result"
    }
   ],
   "source": [
    "def print_fact(n):\n",
    "    fact = 1\n",
    "    for i in range(1, n+1):\n",
    "        fact*=i\n",
    "    print(fact)\n",
    "    return fact\n",
    "    \n",
    "    \n",
    "   \n",
    "print_fact(4)\n",
    "print_fact(6)"
   ]
  },
  {
   "cell_type": "code",
   "execution_count": 14,
   "id": "9f8b4347",
   "metadata": {},
   "outputs": [
    {
     "name": "stdout",
     "output_type": "stream",
     "text": [
      "3 USD 249 inr\n",
      "1 USD 83 inr\n"
     ]
    }
   ],
   "source": [
    "def converter(usd_val):# function logic\n",
    "    inr_val = usd_val * 83\n",
    "    print(usd_val, \"USD\", inr_val,\"inr\" )\n",
    "converter(3)  \n",
    "converter(1)"
   ]
  },
  {
   "cell_type": "code",
   "execution_count": 58,
   "id": "f57627d1",
   "metadata": {},
   "outputs": [
    {
     "name": "stdout",
     "output_type": "stream",
     "text": [
      "odd\n"
     ]
    }
   ],
   "source": [
    "def print_num(val):\n",
    "    if(val%2==0):\n",
    "        print(\"even\")\n",
    "    else:\n",
    "        print(\"odd\")\n",
    "print_num(3)        "
   ]
  },
  {
   "cell_type": "code",
   "execution_count": 6,
   "id": "db6e20b0",
   "metadata": {},
   "outputs": [
    {
     "name": "stdout",
     "output_type": "stream",
     "text": [
      "5\n",
      "4\n",
      "3\n",
      "2\n",
      "1\n"
     ]
    }
   ],
   "source": [
    "# recursion\n",
    "def show(n):\n",
    "    if(n==0):# base case (call stack: call itself at last)\n",
    "        return\n",
    "    print(n)\n",
    "    show(n-1)\n",
    "    \n",
    "show(5)    \n",
    "    "
   ]
  },
  {
   "cell_type": "code",
   "execution_count": 7,
   "id": "f3cf9aca",
   "metadata": {},
   "outputs": [
    {
     "name": "stdout",
     "output_type": "stream",
     "text": [
      "Enter a number: 5\n",
      "Sum of digits: 5\n"
     ]
    }
   ],
   "source": [
    "# Get input from the user\n",
    "number = int(input(\"Enter a number: \"))\n",
    "\n",
    "# Initialize sum to 0\n",
    "digit_sum = 0\n",
    "\n",
    "# Iterate over each digit in the number\n",
    "while number > 0:\n",
    "    # Extract the last digit\n",
    "    digit = number % 10\n",
    "    # Add the digit to the sum\n",
    "    digit_sum += digit\n",
    "    # Remove the last digit from the number\n",
    "    number //= 10\n",
    "\n",
    "# Print the sum of digits\n",
    "print(\"Sum of digits:\", digit_sum)\n"
   ]
  },
  {
   "cell_type": "code",
   "execution_count": 5,
   "id": "45f1634a",
   "metadata": {},
   "outputs": [
    {
     "name": "stdout",
     "output_type": "stream",
     "text": [
      "enter an number: 153\n",
      "is an armstrong\n"
     ]
    }
   ],
   "source": []
  },
  {
   "cell_type": "code",
   "execution_count": 8,
   "id": "aa9fbd66",
   "metadata": {},
   "outputs": [
    {
     "name": "stdout",
     "output_type": "stream",
     "text": [
      "enter an string: Prasant\n",
      "NOt a palindrome\n"
     ]
    }
   ],
   "source": [
    "def is_palindrome(s):\n",
    "    return s==s[::-1]\n",
    "num= input(\"enter an string: \")\n",
    "if is_palindrome(num):\n",
    "    print(\"Palindrome\")\n",
    "else: \n",
    "    print(\"NOt a palindrome\")"
   ]
  },
  {
   "cell_type": "code",
   "execution_count": 10,
   "id": "8d29a64e",
   "metadata": {},
   "outputs": [
    {
     "name": "stdout",
     "output_type": "stream",
     "text": [
      "enter an number: 5\n",
      "120\n"
     ]
    }
   ],
   "source": [
    "def factorial(n): # factorial\n",
    "    if n==0:\n",
    "        return 1\n",
    "    else:\n",
    "        return n* factorial(n-1)\n",
    "num = int(input(\"enter an number: \"))\n",
    "print(factorial(num))"
   ]
  },
  {
   "cell_type": "code",
   "execution_count": 13,
   "id": "2ef8b0dc",
   "metadata": {},
   "outputs": [
    {
     "name": "stdout",
     "output_type": "stream",
     "text": [
      "enter an number:5\n",
      "fibonacci is 5 is [0, 1, 1, 2, 3, 5]\n"
     ]
    }
   ],
   "source": [
    "def fibonacci(n): #fibonacci\n",
    "    fib_sequence = [0, 1]\n",
    "    while fib_sequence[-1] + fib_sequence[-2]<=n:\n",
    "        fib_sequence.append(fib_sequence[-1] + fib_sequence[-2])\n",
    "    return fib_sequence\n",
    "num = int(input(\"enter an number:\"))\n",
    "result = fibonacci(num)\n",
    "print(\"fibonacci is\", num\n",
    "      , \"is\", result)"
   ]
  },
  {
   "cell_type": "code",
   "execution_count": 14,
   "id": "c50ac095",
   "metadata": {},
   "outputs": [
    {
     "name": "stdout",
     "output_type": "stream",
     "text": [
      "enter an number: 5\n",
      "120\n"
     ]
    }
   ],
   "source": [
    "# factorial\n",
    "def factorial(n):\n",
    "    if n<0:\n",
    "        return \"factorial is not defined for negative numbers\"\n",
    "    elif n==0:\n",
    "        return 1\n",
    "    else:\n",
    "        result = 1\n",
    "        while n>0:\n",
    "            result *=n\n",
    "            n-=1\n",
    "        return result\n",
    "num = int(input(\"enter an number: \"))\n",
    "print(factorial(num))     "
   ]
  },
  {
   "cell_type": "code",
   "execution_count": 22,
   "id": "4522daa4",
   "metadata": {},
   "outputs": [
    {
     "name": "stdout",
     "output_type": "stream",
     "text": [
      "enter an number: 5\n",
      "1 1 2 3 5 "
     ]
    }
   ],
   "source": [
    "# fibonacci\n",
    "def fibonacci(n):\n",
    "    if n<=1:\n",
    "        return 1\n",
    "    else:\n",
    "        return fibonacci(n-1) + fibonacci(n-2)\n",
    "num = int(input(\"enter an number: \"))\n",
    "for i in range(num):\n",
    "    print(fibonacci(i), end=\" \")"
   ]
  },
  {
   "cell_type": "code",
   "execution_count": 16,
   "id": "67dddc61",
   "metadata": {},
   "outputs": [
    {
     "name": "stdout",
     "output_type": "stream",
     "text": [
      "enter an number: 4\n",
      "not a prime number\n"
     ]
    }
   ],
   "source": [
    "def is_prime(num):\n",
    "    if num <= 1:\n",
    "        return False\n",
    "    for i in range(2, int(num**0.5)+1):\n",
    "        if num % i == 0:\n",
    "            return False\n",
    "    return True\n",
    "number = int(input(\"enter an number: \"))\n",
    "if is_prime(number):\n",
    "    print(\"is a prime number\")\n",
    "else:\n",
    "    print(\"not a prime number\") # wrong"
   ]
  },
  {
   "cell_type": "code",
   "execution_count": 24,
   "id": "0d012780",
   "metadata": {},
   "outputs": [
    {
     "name": "stdout",
     "output_type": "stream",
     "text": [
      "Prime numbers up to 20 are: [2, 3, 5, 7, 11, 13, 17, 19]\n"
     ]
    }
   ],
   "source": [
    "# sieve of eratosthenes\n",
    "def sieve_of_eratosthenes(n):\n",
    "    primes = [True] * (n + 1)\n",
    "    primes[0] = primes[1] = False\n",
    "    \n",
    "    for i in range(2, int(n**0.5) + 1):\n",
    "        if primes[i]:\n",
    "            for j in range(i*i, n + 1, i):\n",
    "                primes[j] = False\n",
    "                \n",
    "    return [i for i in range(n + 1) if primes[i]]\n",
    "\n",
    "# Example usage:\n",
    "n = 20\n",
    "print(\"Prime numbers up to\", n, \"are:\", sieve_of_eratosthenes(n))\n"
   ]
  },
  {
   "cell_type": "code",
   "execution_count": 30,
   "id": "d35f51ef",
   "metadata": {},
   "outputs": [
    {
     "data": {
      "text/plain": [
       "120"
      ]
     },
     "execution_count": 30,
     "metadata": {},
     "output_type": "execute_result"
    }
   ],
   "source": [
    "def fact(n): # factorial using  recursion function\n",
    "    if(n==0 or n==1):\n",
    "        return 1\n",
    "    else:\n",
    "        return fact(n-1)* n\n",
    "fact(5)    "
   ]
  },
  {
   "cell_type": "code",
   "execution_count": 7,
   "id": "e961e24f",
   "metadata": {},
   "outputs": [
    {
     "data": {
      "text/plain": [
       "3"
      ]
     },
     "execution_count": 7,
     "metadata": {},
     "output_type": "execute_result"
    }
   ],
   "source": [
    "def calc_sum(n):\n",
    "    if(n==0):\n",
    "        return 0\n",
    "    return calc_sum(n-1) + n\n",
    "calc_sum(2)    "
   ]
  },
  {
   "cell_type": "code",
   "execution_count": null,
   "id": "e50d53ce",
   "metadata": {},
   "outputs": [],
   "source": []
  },
  {
   "cell_type": "code",
   "execution_count": null,
   "id": "bdef420f",
   "metadata": {},
   "outputs": [],
   "source": []
  }
 ],
 "metadata": {
  "kernelspec": {
   "display_name": "Python 3 (ipykernel)",
   "language": "python",
   "name": "python3"
  },
  "language_info": {
   "codemirror_mode": {
    "name": "ipython",
    "version": 3
   },
   "file_extension": ".py",
   "mimetype": "text/x-python",
   "name": "python",
   "nbconvert_exporter": "python",
   "pygments_lexer": "ipython3",
   "version": "3.11.5"
  }
 },
 "nbformat": 4,
 "nbformat_minor": 5
}
