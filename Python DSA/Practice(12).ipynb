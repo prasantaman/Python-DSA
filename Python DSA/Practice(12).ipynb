{
 "cells": [
  {
   "cell_type": "code",
   "execution_count": 5,
   "id": "39e2810e",
   "metadata": {},
   "outputs": [
    {
     "name": "stdout",
     "output_type": "stream",
     "text": [
      "man\n",
      "sdf\n",
      "sdf\n",
      "ter\n",
      "sdf\n"
     ]
    }
   ],
   "source": [
    "def print_list(list, idx=0):\n",
    "    if(idx==len(list)):\n",
    "        return \n",
    "    print(list[idx])\n",
    "    print_list(list,idx+1)\n",
    "\n",
    "fruits = [\"man\", \"sdf\", \"sdf\", \"ter\", \"sdf\"]\n",
    "print_list(fruits)"
   ]
  },
  {
   "cell_type": "markdown",
   "id": "376d90d7",
   "metadata": {},
   "source": [
    "# file i/o"
   ]
  },
  {
   "cell_type": "code",
   "execution_count": 11,
   "id": "76ffab61",
   "metadata": {},
   "outputs": [],
   "source": [
    "f = open(\"C:\\\\Users\\\\Aman Sahu\\\\OneDrive\\\\Desktop\\\\.ipynb_checkpoints\\\\New Text Document.txt\", \"r\")\n",
    "\n",
    "#data = f.read() # reads entire file\n",
    "#print(data)\n",
    "#f.close()"
   ]
  },
  {
   "cell_type": "code",
   "execution_count": 12,
   "id": "6aa6a439",
   "metadata": {},
   "outputs": [
    {
     "name": "stdout",
     "output_type": "stream",
     "text": [
      "M\n"
     ]
    }
   ],
   "source": [
    "data1 = f.readline(1)\n",
    "print(data1)\n",
    "f.close()"
   ]
  },
  {
   "cell_type": "code",
   "execution_count": 13,
   "id": "e10cf2a8",
   "metadata": {},
   "outputs": [],
   "source": [
    "f = open(\"C:\\\\Users\\\\Aman Sahu\\\\OneDrive\\\\Desktop\\\\.ipynb_checkpoints\\\\New Text Document.txt\", \"w\")\n",
    "f.write(\"my name is prasant and i am working for google\\n good time for working\")\n",
    "f.close() # write in file overwrite(Create and write in a file)"
   ]
  },
  {
   "cell_type": "code",
   "execution_count": 15,
   "id": "a6ac67d6",
   "metadata": {},
   "outputs": [],
   "source": [
    "f = open(\"C:\\\\Users\\\\Aman Sahu\\\\OneDrive\\\\Desktop\\\\.ipynb_checkpoints\\\\New Text Document.txt\", \"a\")\n",
    "f.write(\"my goal is read too much\") # for create and write an file \n",
    "f.close()"
   ]
  },
  {
   "cell_type": "code",
   "execution_count": 17,
   "id": "b7dab351",
   "metadata": {},
   "outputs": [],
   "source": [
    "f = open(\"C:\\\\Users\\\\Aman Sahu\\\\OneDrive\\\\Desktop\\\\.ipynb_checkpoints\\\\New Text Document.txt\", \"r+\")\n",
    "f.write(\"Priti Kumari\")\n",
    "f.close()"
   ]
  },
  {
   "cell_type": "code",
   "execution_count": 26,
   "id": "076a1c49",
   "metadata": {},
   "outputs": [
    {
     "name": "stdout",
     "output_type": "stream",
     "text": [
      "\n"
     ]
    }
   ],
   "source": [
    "f = open(\"C:\\\\Users\\\\Aman Sahu\\\\OneDrive\\\\Desktop\\\\.ipynb_checkpoints\\\\New Text Document.txt\", \"w+\")\n",
    "print(f.read())\n",
    "f.write(\"prasant and priti \")\n",
    "f.close()\n",
    "\n"
   ]
  },
  {
   "cell_type": "code",
   "execution_count": 30,
   "id": "654f2ed2",
   "metadata": {},
   "outputs": [
    {
     "name": "stdout",
     "output_type": "stream",
     "text": [
      "\n"
     ]
    }
   ],
   "source": [
    "f = open(\"C:\\\\Users\\\\Aman Sahu\\\\OneDrive\\\\Desktop\\\\.ipynb_checkpoints\\\\New Text Document.txt\", \"a+\")\n",
    "print(f.read())# truncate means data deleted from file\n",
    "f.write(\"abc\")\n",
    "f.close()"
   ]
  },
  {
   "cell_type": "code",
   "execution_count": 32,
   "id": "00ec350b",
   "metadata": {},
   "outputs": [
    {
     "name": "stdout",
     "output_type": "stream",
     "text": [
      "prasant and priti abcabc\n"
     ]
    }
   ],
   "source": [
    "# with syntax\n",
    "with open(\"C:\\\\Users\\\\Aman Sahu\\\\OneDrive\\\\Desktop\\\\.ipynb_checkpoints\\\\New Text Document.txt\",\"r\")as f:\n",
    "    data = f.read()\n",
    "    print(data) # f.close not comulsary"
   ]
  },
  {
   "cell_type": "code",
   "execution_count": 33,
   "id": "1c0f88ce",
   "metadata": {},
   "outputs": [],
   "source": [
    "with open(\"C:\\\\Users\\\\Aman Sahu\\\\OneDrive\\\\Desktop\\\\.ipynb_checkpoints\\\\New Text Document.txt\",\"w\")as f:\n",
    "    f.write(\"new data\")"
   ]
  },
  {
   "cell_type": "code",
   "execution_count": 40,
   "id": "ddc4ea0c",
   "metadata": {},
   "outputs": [
    {
     "ename": "PermissionError",
     "evalue": "[WinError 32] The process cannot access the file because it is being used by another process: 'C:\\\\Users\\\\Aman Sahu\\\\OneDrive\\\\Desktop\\\\.ipynb_checkpoints\\\\New Text Document.txt'",
     "output_type": "error",
     "traceback": [
      "\u001b[1;31m---------------------------------------------------------------------------\u001b[0m",
      "\u001b[1;31mPermissionError\u001b[0m                           Traceback (most recent call last)",
      "Cell \u001b[1;32mIn[40], line 3\u001b[0m\n\u001b[0;32m      1\u001b[0m \u001b[38;5;66;03m# deleting a file\u001b[39;00m\n\u001b[0;32m      2\u001b[0m \u001b[38;5;28;01mimport\u001b[39;00m \u001b[38;5;21;01mos\u001b[39;00m\n\u001b[1;32m----> 3\u001b[0m os\u001b[38;5;241m.\u001b[39mremove(\u001b[38;5;124m\"\u001b[39m\u001b[38;5;124mC:\u001b[39m\u001b[38;5;130;01m\\\\\u001b[39;00m\u001b[38;5;124mUsers\u001b[39m\u001b[38;5;130;01m\\\\\u001b[39;00m\u001b[38;5;124mAman Sahu\u001b[39m\u001b[38;5;130;01m\\\\\u001b[39;00m\u001b[38;5;124mOneDrive\u001b[39m\u001b[38;5;130;01m\\\\\u001b[39;00m\u001b[38;5;124mDesktop\u001b[39m\u001b[38;5;130;01m\\\\\u001b[39;00m\u001b[38;5;124m.ipynb_checkpoints\u001b[39m\u001b[38;5;130;01m\\\\\u001b[39;00m\u001b[38;5;124mNew Text Document.txt\u001b[39m\u001b[38;5;124m\"\u001b[39m)\n",
      "\u001b[1;31mPermissionError\u001b[0m: [WinError 32] The process cannot access the file because it is being used by another process: 'C:\\\\Users\\\\Aman Sahu\\\\OneDrive\\\\Desktop\\\\.ipynb_checkpoints\\\\New Text Document.txt'"
     ]
    }
   ],
   "source": [
    "# deleting a file\n",
    "import os\n",
    "os.remove(\"C:\\\\Users\\\\Aman Sahu\\\\OneDrive\\\\Desktop\\\\.ipynb_checkpoints\\\\New Text Document.txt\")"
   ]
  },
  {
   "cell_type": "code",
   "execution_count": 41,
   "id": "f155cd32",
   "metadata": {},
   "outputs": [],
   "source": [
    "with open(\"practice.txt\",\"w\" ) as f:\n",
    "    f.write(\"Hi everyone\\nwe are learning File I/o\\n \")\n",
    "    f.write(\"using Java.\\nI like programming in Java\")\n",
    "    "
   ]
  },
  {
   "cell_type": "code",
   "execution_count": 43,
   "id": "38e4bb06",
   "metadata": {},
   "outputs": [
    {
     "name": "stdout",
     "output_type": "stream",
     "text": [
      "Hi everyone\n",
      "we are learning File I/o\n",
      " using Python.\n",
      "I like programming in Python\n"
     ]
    }
   ],
   "source": [
    "with open(\"practice.txt\", \"r\") as f:\n",
    "    data = f.read()\n",
    "    new_data = data.replace(\"Java\", \"Python\")\n",
    "    print(new_data)"
   ]
  },
  {
   "cell_type": "code",
   "execution_count": 44,
   "id": "8ac0f5b3",
   "metadata": {},
   "outputs": [],
   "source": [
    "with open(\"practice.txt\", \"w\") as f:\n",
    "    f.write(new_data)\n",
    "    "
   ]
  },
  {
   "cell_type": "code",
   "execution_count": 47,
   "id": "2e6fdd62",
   "metadata": {},
   "outputs": [
    {
     "name": "stdout",
     "output_type": "stream",
     "text": [
      "found\n"
     ]
    }
   ],
   "source": [
    "word = \"learning\"\n",
    "with open(\"practice.txt\", \"r\") as f:\n",
    "    data = f.read()\n",
    "    if(data.find(word) != -1):\n",
    "        print(\"found\")\n",
    "    else:\n",
    "        print(\"not fonund\")"
   ]
  },
  {
   "cell_type": "code",
   "execution_count": 51,
   "id": "b8bc52db",
   "metadata": {},
   "outputs": [
    {
     "name": "stdout",
     "output_type": "stream",
     "text": [
      "found\n"
     ]
    }
   ],
   "source": [
    "def check_for_word():\n",
    "    word = \"learning\"\n",
    "    with open(\"practice.txt\", \"r\") as f:\n",
    "        data = f.read()\n",
    "    if(data.find(word) != -1):\n",
    "        print(\"found\")\n",
    "    else:\n",
    "        print(\"not fonund\")\n",
    "check_for_word()        "
   ]
  },
  {
   "cell_type": "code",
   "execution_count": 7,
   "id": "eaf88c18",
   "metadata": {},
   "outputs": [
    {
     "name": "stdout",
     "output_type": "stream",
     "text": [
      "4\n"
     ]
    }
   ],
   "source": [
    "def check_for_line(): # find word in any line \n",
    "    word = \"programming\"\n",
    "    data = True\n",
    "    line_no = 1\n",
    "    with open(\"practice.txt\",\"r\") as f:\n",
    "        while data:\n",
    "            data = f.readline()\n",
    "            if(word in data):\n",
    "                print(line_no)\n",
    "                return\n",
    "            line_no+=1\n",
    "    return -1        \n",
    "check_for_line()            "
   ]
  },
  {
   "cell_type": "code",
   "execution_count": 15,
   "id": "e82bedba",
   "metadata": {},
   "outputs": [],
   "source": [
    "with open(\"practice.txt\",\"w+\") as f:\n",
    "    f.write(\"1,3,54,645,2,43,53,34,4,43,24\")\n",
    "    \n",
    "    "
   ]
  },
  {
   "cell_type": "code",
   "execution_count": 16,
   "id": "151f9201",
   "metadata": {},
   "outputs": [
    {
     "name": "stdout",
     "output_type": "stream",
     "text": [
      "1,3,54,645,2,43,53,34,4,43,24\n",
      "1\n",
      "3\n",
      "54\n",
      "645\n",
      "2\n",
      "43\n",
      "53\n",
      "34\n",
      "4\n",
      "43\n"
     ]
    }
   ],
   "source": [
    "with open(\"practice.txt\", \"r\") as f:\n",
    "    data = f.read()\n",
    "    print(data)\n",
    "    num = \"\"\n",
    "    for i in range(len(data)):\n",
    "        if(data[i]==\",\"):\n",
    "            print(int(num))\n",
    "            num=\"\"\n",
    "        else:\n",
    "            num+=data[i]\n",
    "    "
   ]
  },
  {
   "cell_type": "code",
   "execution_count": 17,
   "id": "9bd61a9a",
   "metadata": {},
   "outputs": [
    {
     "name": "stdout",
     "output_type": "stream",
     "text": [
      "1,3,54,645,2,43,53,34,4,43,24\n",
      "['1', '3', '54', '645', '2', '43', '53', '34', '4', '43', '24']\n"
     ]
    }
   ],
   "source": [
    "with open(\"practice.txt\", \"r\") as f:\n",
    "    data = f.read()\n",
    "    print(data)\n",
    "    nums = data.split(\",\")\n",
    "    print(nums)"
   ]
  },
  {
   "cell_type": "code",
   "execution_count": 19,
   "id": "9642ed26",
   "metadata": {},
   "outputs": [
    {
     "name": "stdout",
     "output_type": "stream",
     "text": [
      "5\n"
     ]
    }
   ],
   "source": [
    "count = 0\n",
    "with open(\"practice.txt\", \"r\") as f:\n",
    "    data = f.read()\n",
    "   \n",
    "    nums = data.split(\",\")\n",
    "    for val in nums:\n",
    "        if(int(val)%2==0):\n",
    "            count+=1\n",
    "print(count)           "
   ]
  },
  {
   "cell_type": "markdown",
   "id": "ac3de153",
   "metadata": {},
   "source": [
    "# oops"
   ]
  },
  {
   "cell_type": "code",
   "execution_count": 22,
   "id": "b04c0dab",
   "metadata": {},
   "outputs": [
    {
     "name": "stdout",
     "output_type": "stream",
     "text": [
      "prasant\n",
      "prasant\n"
     ]
    }
   ],
   "source": [
    "class Student: #class an object\n",
    "    name = \"prasant\"\n",
    "    \n",
    "a = Student()\n",
    "print(a.name)\n",
    "b = Student()\n",
    "print(b.name)"
   ]
  },
  {
   "cell_type": "code",
   "execution_count": 24,
   "id": "7fdaad3a",
   "metadata": {},
   "outputs": [
    {
     "name": "stdout",
     "output_type": "stream",
     "text": [
      "blue\n",
      "Pp\n"
     ]
    }
   ],
   "source": [
    "class Car:\n",
    "    color = \"blue\"\n",
    "    model = \"Pp\"\n",
    "car1 = Car()\n",
    "print(car1.color)\n",
    "print(car1.model)"
   ]
  },
  {
   "cell_type": "code",
   "execution_count": 25,
   "id": "d6a5ac8b",
   "metadata": {},
   "outputs": [
    {
     "name": "stdout",
     "output_type": "stream",
     "text": [
      "my name is prasant\n"
     ]
    }
   ],
   "source": [
    "# constructor\n",
    "class student:\n",
    "    name = \"karan\"\n",
    "    def __init__(self):\n",
    "        print(\"my name is prasant\")\n",
    "pp = student()        "
   ]
  },
  {
   "cell_type": "code",
   "execution_count": null,
   "id": "fa0bc1ac",
   "metadata": {},
   "outputs": [],
   "source": []
  }
 ],
 "metadata": {
  "kernelspec": {
   "display_name": "Python 3 (ipykernel)",
   "language": "python",
   "name": "python3"
  },
  "language_info": {
   "codemirror_mode": {
    "name": "ipython",
    "version": 3
   },
   "file_extension": ".py",
   "mimetype": "text/x-python",
   "name": "python",
   "nbconvert_exporter": "python",
   "pygments_lexer": "ipython3",
   "version": "3.11.5"
  }
 },
 "nbformat": 4,
 "nbformat_minor": 5
}
