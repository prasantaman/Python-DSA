{
 "cells": [
  {
   "cell_type": "code",
   "execution_count": 4,
   "id": "11a6d116",
   "metadata": {},
   "outputs": [
    {
     "name": "stdout",
     "output_type": "stream",
     "text": [
      "22.857142857142858\n"
     ]
    }
   ],
   "source": [
    "# check in-built functions\n",
    "def avg(*numbers):\n",
    "    s=0\n",
    "    for i in numbers:\n",
    "        s = s+i\n",
    "    print(s/len(numbers)) \n",
    "avg(1,2,3,4,5,67,78)    "
   ]
  },
  {
   "cell_type": "code",
   "execution_count": 6,
   "id": "d8402f47",
   "metadata": {},
   "outputs": [
    {
     "name": "stdout",
     "output_type": "stream",
     "text": [
      "hello prasant pragati honey\n"
     ]
    }
   ],
   "source": [
    "def name(**name):\n",
    "    print(\"hello\", name[\"fname\"], name[\"mname\"], name[\"yname\"])\n",
    "name(fname = \"prasant\", mname = \"pragati\", yname = \"honey\")    "
   ]
  },
  {
   "cell_type": "code",
   "execution_count": 7,
   "id": "c5ee7b1b",
   "metadata": {},
   "outputs": [
    {
     "data": {
      "text/plain": [
       "11"
      ]
     },
     "execution_count": 7,
     "metadata": {},
     "output_type": "execute_result"
    }
   ],
   "source": [
    "def add(x=5, y = 6):\n",
    "    return x+y\n",
    "add()"
   ]
  },
  {
   "cell_type": "code",
   "execution_count": 6,
   "id": "4e53d270",
   "metadata": {},
   "outputs": [
    {
     "name": "stdout",
     "output_type": "stream",
     "text": [
      "enter an number:153\n",
      "is an armstrong\n"
     ]
    }
   ],
   "source": [
    "# function for armstrong number\n",
    "def armstrong(num):\n",
    "    n_len = len(str(num))\n",
    "    sum = 0\n",
    "    n_a = num\n",
    "    while n_a>0:\n",
    "        digit = n_a%10\n",
    "        sum+=digit**n_len\n",
    "        n_a//=10\n",
    "    if(num==sum):\n",
    "        print(\"is an armstrong\")\n",
    "    else: \n",
    "        print(\"not an armstrong number\")    \n",
    "       \n",
    "a = int(input(\"enter an number:\"))\n",
    "armstrong(a)"
   ]
  },
  {
   "cell_type": "code",
   "execution_count": 12,
   "id": "9a0c06a3",
   "metadata": {},
   "outputs": [
    {
     "name": "stdout",
     "output_type": "stream",
     "text": [
      "enter an string: madam\n",
      "is a palindrome\n"
     ]
    }
   ],
   "source": [
    "# to check palindrome\n",
    "def is_palindrome(num):\n",
    "    return num==num[::-1]\n",
    "a = input(\"enter an string: \")\n",
    "is_palindrome(a)\n",
    "if is_palindrome(a):\n",
    "    print(\"is a palindrome\")\n",
    "else: \n",
    "    print(\"is not a palindrome\")\n",
    "    \n",
    "\n",
    "    "
   ]
  },
  {
   "cell_type": "code",
   "execution_count": 2,
   "id": "62d81c96",
   "metadata": {},
   "outputs": [
    {
     "name": "stdout",
     "output_type": "stream",
     "text": [
      "enter an number: 3\n",
      "is a prime number\n"
     ]
    }
   ],
   "source": [
    "def is_prime(num):\n",
    "    if num <= 1:\n",
    "        return False\n",
    "    for i in range(2, int(num**0.5)+1):\n",
    "        if num % i == 0:\n",
    "            return False\n",
    "    return True\n",
    "number = int(input(\"enter an number: \"))\n",
    "if is_prime(number):\n",
    "    print(\"is a prime number\")\n",
    "else:\n",
    "    print(\"not a prime number\") "
   ]
  },
  {
   "cell_type": "code",
   "execution_count": 5,
   "id": "0425dbbd",
   "metadata": {},
   "outputs": [
    {
     "name": "stdout",
     "output_type": "stream",
     "text": [
      "enter an number: 6\n",
      "divisible by 3\n"
     ]
    }
   ],
   "source": [
    "def divisible_by_3(num):\n",
    "    if num%3 == 0:\n",
    "        print(\"divisible by 3\")\n",
    "    else: \n",
    "        print(\" not divisible by 3\")\n",
    "num = int(input(\"enter an number: \"))   \n",
    "divisible_by_3(num)\n",
    "        "
   ]
  },
  {
   "cell_type": "code",
   "execution_count": 34,
   "id": "5761b84d",
   "metadata": {},
   "outputs": [
    {
     "name": "stdout",
     "output_type": "stream",
     "text": [
      "enter a number: 121\n",
      "121 is a palindrome\n",
      "121 is not an armstrong\n",
      "121 not divisible by 3\n",
      "121 is not a prime number\n",
      "reverse output: 121\n"
     ]
    }
   ],
   "source": [
    "def is_palindrome(num):\n",
    "    return str(num)==str(num)[::-1]\n",
    "def is_armstrong(num):\n",
    "    num_str = str(num)\n",
    "    power = len(num_str)\n",
    "    total = sum(int(digit)** power for digit in num_str)\n",
    "    return total == num\n",
    "def is_divisible_of_3(num):\n",
    "    return num%3==0\n",
    "def is_prime(num):\n",
    "    if num<=1:\n",
    "        return False\n",
    "    if num <=3:\n",
    "        return True\n",
    "    if num%2==0 or num%3==0:\n",
    "        return False\n",
    "    i=5\n",
    "    while i*i <=num:\n",
    "        if num%i==0 or num%(i+2)==0:\n",
    "            return False\n",
    "        i+=6\n",
    "    return True\n",
    "def reverse_string(num):\n",
    "    return str(num)[::-1]\n",
    "def main():\n",
    "    num = int(input(\"enter a number: \"))\n",
    "    if is_palindrome(num):\n",
    "        print(f\"{num} is a palindrome\")\n",
    "    else:\n",
    "        print(f\"{num} is not a palindrome\")\n",
    "    if is_armstrong(num):\n",
    "        print(f\"{num} is an armstrong\")\n",
    "    else:\n",
    "        print(f\"{num} is not an armstrong\")\n",
    "    if is_divisible_of_3(num):\n",
    "        print(f\"{num} is divisible by 3\")\n",
    "    else:\n",
    "        print(f\"{num} not divisible by 3\")\n",
    "    if is_prime(num):\n",
    "        print(f\"{num} is a prime number\")\n",
    "    else:\n",
    "        print(f\"{num} is not a prime number\")\n",
    "    num_s = reverse_string(num)\n",
    "    print(f\"reverse output: {num_s}\")\n",
    "if __name__ == \"__main__\":\n",
    "    main()\n",
    "    "
   ]
  },
  {
   "cell_type": "code",
   "execution_count": 13,
   "id": "995ba366",
   "metadata": {},
   "outputs": [
    {
     "name": "stdout",
     "output_type": "stream",
     "text": [
      "enter an number: 1\n",
      "1 is not a prime number.\n"
     ]
    }
   ],
   "source": [
    "def is_prime(num):\n",
    "    if num <= 1:\n",
    "        return False\n",
    "    if num <= 3:\n",
    "        return True\n",
    "    if num % 2 == 0 or num % 3 == 0:\n",
    "        return False\n",
    "    i = 5\n",
    "    while i * i <= num:\n",
    "        if num % i == 0 or num % (i + 2) == 0:\n",
    "            return False\n",
    "        i += 6\n",
    "    return True\n",
    "num = int(input(\"enter an number: \"))\n",
    "def sd():\n",
    "    if is_prime(num):\n",
    "        print(f\"{num} is a prime number.\")\n",
    "    else:\n",
    "        print(f\"{num} is not a prime number.\")\n",
    "        \n",
    "if __name__ == \"__main__\":\n",
    "    sd()"
   ]
  },
  {
   "cell_type": "code",
   "execution_count": 37,
   "id": "f0a77a78",
   "metadata": {},
   "outputs": [
    {
     "name": "stdout",
     "output_type": "stream",
     "text": [
      "Enter your weight in kilograms: 55\n",
      "Enter your height in meters: 4\n",
      "your bmi is: 3.4375\n",
      "You are considered: Underweight\n"
     ]
    }
   ],
   "source": [
    "def calculate_bmi(weight, height):\n",
    "    \"\"\"\n",
    "    Calculate BMI using weight in kilograms and height in meters.\n",
    "    Formula: BMI = weight (kg) / (height (m))^2\n",
    "    \"\"\"\n",
    "    bmi = weight / (height ** 2)\n",
    "    return bmi\n",
    "\n",
    "def interpret_bmi(bmi):\n",
    "    \"\"\"\n",
    "    Interpret BMI and provide a corresponding health category.\n",
    "    \"\"\"\n",
    "    if bmi < 18.5:\n",
    "        return \"Underweight\"\n",
    "    elif bmi < 25:\n",
    "        return \"Normal weight\"\n",
    "    elif bmi < 30:\n",
    "        return \"Overweight\"\n",
    "    else:\n",
    "        return \"Obese\"\n",
    "\n",
    "def main():\n",
    "    weight = float(input(\"Enter your weight in kilograms: \"))\n",
    "    height = float(input(\"Enter your height in meters: \"))\n",
    "\n",
    "    bmi = calculate_bmi(weight, height)\n",
    "    category = interpret_bmi(bmi)\n",
    "\n",
    "    print(f\"your bmi is: {bmi}\")\n",
    "    print(\"You are considered:\", category)\n",
    "\n",
    "if __name__ == \"__main__\":\n",
    "    main()\n"
   ]
  },
  {
   "cell_type": "code",
   "execution_count": 39,
   "id": "74bb6b1e",
   "metadata": {},
   "outputs": [
    {
     "name": "stdout",
     "output_type": "stream",
     "text": [
      "4\n",
      "[1, 2, 3]\n"
     ]
    }
   ],
   "source": [
    "# pop function\n",
    "my_list = [1, 2, 3, 4]\n",
    "last_item = my_list.pop()\n",
    "print(last_item)  # Output: 4\n",
    "print(my_list)"
   ]
  },
  {
   "cell_type": "code",
   "execution_count": 41,
   "id": "10a611e4",
   "metadata": {},
   "outputs": [
    {
     "name": "stdout",
     "output_type": "stream",
     "text": [
      "[1, 1, 2, 3, 4, 5, 9]\n"
     ]
    }
   ],
   "source": [
    "# sort Function\n",
    "my_list = [3, 1, 4, 1, 5, 9, 2]\n",
    "my_list.sort()\n",
    "print(my_list)  # Output: [1, 1, 2, 3, 4, 5, 9]\n"
   ]
  },
  {
   "cell_type": "code",
   "execution_count": 44,
   "id": "6ccf5518",
   "metadata": {},
   "outputs": [
    {
     "name": "stdout",
     "output_type": "stream",
     "text": [
      "Index 0: red\n",
      "Index 1: blue\n",
      "Index 2: green\n"
     ]
    }
   ],
   "source": [
    "colors = ['red', 'blue', 'green']\n",
    "for index, color in enumerate(colors):\n",
    "    print(f\"Index {index}: {color}\")"
   ]
  },
  {
   "cell_type": "code",
   "execution_count": 45,
   "id": "d24a8b0f",
   "metadata": {},
   "outputs": [
    {
     "name": "stdout",
     "output_type": "stream",
     "text": [
      "Prasant is 23 years old.\n",
      "pragati is 34 years old.\n",
      "priyanshu is 23 years old.\n"
     ]
    }
   ],
   "source": [
    "names = ['Prasant', 'pragati', 'priyanshu']\n",
    "ages = [23,34,23]\n",
    "for name, age in zip(names,ages):\n",
    "    print(f\"{name} is {age} years old.\")"
   ]
  },
  {
   "cell_type": "code",
   "execution_count": 46,
   "id": "1d78f50e",
   "metadata": {},
   "outputs": [
    {
     "name": "stdout",
     "output_type": "stream",
     "text": [
      "True\n"
     ]
    }
   ],
   "source": [
    "numbers = [0,5,4,3,2,6]\n",
    "print(any(numbers))"
   ]
  },
  {
   "cell_type": "code",
   "execution_count": 47,
   "id": "62a902f0",
   "metadata": {},
   "outputs": [
    {
     "name": "stdout",
     "output_type": "stream",
     "text": [
      "False\n"
     ]
    }
   ],
   "source": [
    "numbers = []\n",
    "print(any(numbers))"
   ]
  },
  {
   "cell_type": "code",
   "execution_count": 24,
   "id": "043a4cb6",
   "metadata": {},
   "outputs": [
    {
     "name": "stdout",
     "output_type": "stream",
     "text": [
      "enter an number: 6\n",
      "not a prime number\n"
     ]
    }
   ],
   "source": [
    "num = int(input(\"enter an number: \"))\n",
    "if num ==1:\n",
    "    print(\"not a prime number\")\n",
    "    \n",
    "if num>1:\n",
    "    for i in range(2, num):# \n",
    "        if(num%i==0):\n",
    "            print(\"not a prime number\")\n",
    "            break\n",
    "    else: \n",
    "        print(\"is a prime number\")\n",
    "    \n",
    "            "
   ]
  },
  {
   "cell_type": "code",
   "execution_count": 53,
   "id": "2f5702bd",
   "metadata": {},
   "outputs": [
    {
     "name": "stdout",
     "output_type": "stream",
     "text": [
      "enter a string: Prasant\n",
      "enter a character to count: a\n"
     ]
    },
    {
     "data": {
      "text/plain": [
       "2"
      ]
     },
     "execution_count": 53,
     "metadata": {},
     "output_type": "execute_result"
    }
   ],
   "source": [
    "def count_occurrences(string, char):\n",
    "    count = 0\n",
    "    for c in string:\n",
    "        if c== char:\n",
    "            count+= 1\n",
    "    return count\n",
    "user = input(\"enter a string: \")\n",
    "character = input(\"enter a character to count: \")\n",
    "count_occurrences(user, character)"
   ]
  },
  {
   "cell_type": "code",
   "execution_count": 54,
   "id": "3458aaee",
   "metadata": {},
   "outputs": [
    {
     "name": "stdout",
     "output_type": "stream",
     "text": [
      "120\n"
     ]
    }
   ],
   "source": [
    "def factorial(n):\n",
    "    if n==0:\n",
    "        return 1\n",
    "    else:\n",
    "        return n*factorial(n-1)\n",
    "print(factorial(5))    "
   ]
  },
  {
   "cell_type": "code",
   "execution_count": null,
   "id": "f5bc24fd",
   "metadata": {},
   "outputs": [],
   "source": [
    "\"\"\"print(), input(), len(), type(), int(), float(), str(), list(convertlist to a tuple)\n",
    "tuple(convert a list into tuple), range(), sum(sum of all elements), max(return max in an iterable)\n",
    "min(), abs(absolute value), sorted(), round(), pow(2,3), append(), lower(), upper()\n",
    ", sort(), keys(), values(),items(),enumerate(),zip(), any(), all(),   \"\"\""
   ]
  },
  {
   "cell_type": "code",
   "execution_count": 64,
   "id": "58fec25d",
   "metadata": {},
   "outputs": [
    {
     "name": "stdout",
     "output_type": "stream",
     "text": [
      "10\n",
      "8\n"
     ]
    }
   ],
   "source": [
    "# lambda function - used for anonymous function or lambda expressioncan only have one expression\n",
    "def double(x):# lambda arguments: expression\n",
    "\n",
    "    return x*2\n",
    "print(double(5))\n",
    "\n",
    "double = lambda x: x*2\n",
    "print(double(4))"
   ]
  },
  {
   "cell_type": "code",
   "execution_count": 65,
   "id": "f716aeeb",
   "metadata": {},
   "outputs": [
    {
     "name": "stdout",
     "output_type": "stream",
     "text": [
      "125\n"
     ]
    }
   ],
   "source": [
    "cube = lambda x: x*x*x\n",
    "print(cube(5))"
   ]
  },
  {
   "cell_type": "code",
   "execution_count": 66,
   "id": "b0032fdf",
   "metadata": {},
   "outputs": [
    {
     "name": "stdout",
     "output_type": "stream",
     "text": [
      "3.6666666666666665\n"
     ]
    }
   ],
   "source": [
    "avg = lambda x,y,z: (x+y+z)/3\n",
    "print(avg(2,4,5))"
   ]
  },
  {
   "cell_type": "code",
   "execution_count": 72,
   "id": "4f99415c",
   "metadata": {},
   "outputs": [
    {
     "name": "stdout",
     "output_type": "stream",
     "text": [
      "[1, 8, 27, 64, 125, 216]\n"
     ]
    }
   ],
   "source": [
    "# map()\n",
    "l = [1,2,3,4,5,6]\n",
    "newl = []\n",
    "# for item in l:\n",
    "#     newl.append(cube(item))\n",
    "# print(newl) \n",
    "\n",
    "newl = list(map(cube, l))\n",
    "print(newl)"
   ]
  },
  {
   "cell_type": "code",
   "execution_count": 73,
   "id": "db9d4770",
   "metadata": {},
   "outputs": [
    {
     "name": "stdout",
     "output_type": "stream",
     "text": [
      "[4, 5, 6, 7, 8]\n"
     ]
    }
   ],
   "source": [
    "#filter()\n",
    "l = [1,3,4,5,6,7,8]\n",
    "def filter_function(a):\n",
    "    return a>3\n",
    "newl = list(filter(filter_function, l))\n",
    "print(newl)"
   ]
  },
  {
   "cell_type": "code",
   "execution_count": 74,
   "id": "4e1aec80",
   "metadata": {},
   "outputs": [
    {
     "name": "stdout",
     "output_type": "stream",
     "text": [
      "15\n"
     ]
    }
   ],
   "source": [
    "# reduce( higher order function)\n",
    "from functools import reduce\n",
    "numbers = [1,2,3,4,5]\n",
    "sum = reduce(lambda x,y: x+y, numbers)\n",
    "print(sum)\n"
   ]
  },
  {
   "cell_type": "code",
   "execution_count": 81,
   "id": "ba06ba4a",
   "metadata": {},
   "outputs": [
    {
     "name": "stdout",
     "output_type": "stream",
     "text": [
      "False\n",
      "False\n",
      "False\n",
      "True\n",
      "True\n",
      "True\n",
      "False\n",
      "True\n",
      "True\n",
      "True\n",
      "True\n"
     ]
    }
   ],
   "source": [
    "# 'is' vs'==' in python\n",
    "a = 4\n",
    "b = \"4\"\n",
    "print(a is b) # exact location of object in memory\n",
    "print(a==b) # value\n",
    "\n",
    "x = [1,2,3]\n",
    "y = [1,2,3]\n",
    "print(x is y)\n",
    "print(x==y)\n",
    "\n",
    "v = 3\n",
    "u = 3\n",
    "print(v is u)\n",
    "print(v==u)\n",
    "\n",
    "v = (1,3)\n",
    "u = (1,3)\n",
    "print(v is u)\n",
    "print(v==u)\n",
    "\n",
    "a = None\n",
    "b = None\n",
    "print(a is b)\n",
    "print(a==b)\n",
    "print(a is None)"
   ]
  },
  {
   "cell_type": "code",
   "execution_count": 7,
   "id": "c605dd60",
   "metadata": {},
   "outputs": [
    {
     "name": "stdout",
     "output_type": "stream",
     "text": [
      "Choose one (snake, water, gun): snake\n",
      "Computer's choice: snake\n",
      "It's a tie!\n"
     ]
    }
   ],
   "source": [
    "# snake water game\n",
    "import random\n",
    "\n",
    "def create_choices_matrix():\n",
    "    return [\n",
    "        # Snake, Water, Gun\n",
    "        [\"Tie\", \"Win\", \"Lose\"],  # User: Snake\n",
    "        [\"Lose\", \"Tie\", \"Win\"],  # User: Water\n",
    "        [\"Win\", \"Lose\", \"Tie\"]   # User: Gun\n",
    "    ]\n",
    "\n",
    "def game():\n",
    "    choices_matrix = create_choices_matrix()\n",
    "    choices = [\"snake\", \"water\", \"gun\"]\n",
    "    user_choice_index = choices.index(input(\"Choose one (snake, water, gun): \").lower())\n",
    "    computer_choice_index = random.randint(0, 2)\n",
    "    \n",
    "    print(f\"Computer's choice: {choices[computer_choice_index]}\")\n",
    "    \n",
    "    result = choices_matrix[user_choice_index][computer_choice_index]\n",
    "    if result == \"Tie\":\n",
    "        print(\"It's a tie!\")\n",
    "    elif result == \"Win\":\n",
    "        print(\"You win!\")\n",
    "    else:\n",
    "        print(\"You lose!\")\n",
    "\n",
    "# Run the game\n",
    "game()\n"
   ]
  },
  {
   "cell_type": "code",
   "execution_count": 9,
   "id": "5d745954",
   "metadata": {},
   "outputs": [
    {
     "name": "stdout",
     "output_type": "stream",
     "text": [
      "Snake, Water, Gun Game\n",
      "Choose one: snake, water, gun\n",
      "Your choice: gun\n",
      "Computer's choice: gun\n",
      "It's a tie!\n"
     ]
    }
   ],
   "source": [
    "import random\n",
    "\n",
    "def game():\n",
    "    choices = [\"snake\", \"water\", \"gun\"]\n",
    "    computer_choice = random.choice(choices)\n",
    "    \n",
    "    print(\"Snake, Water, Gun Game\")\n",
    "    print(\"Choose one: snake, water, gun\")\n",
    "    user_choice = input(\"Your choice: \").lower()\n",
    "    \n",
    "    print(f\"Computer's choice: {computer_choice}\")\n",
    "    \n",
    "    if user_choice not in choices:\n",
    "        print(\"Invalid choice! Please choose from snake, water, gun.\")\n",
    "        return\n",
    "    \n",
    "    if user_choice == computer_choice:\n",
    "        print(\"It's a tie!\")\n",
    "    elif user_choice == \"snake\":\n",
    "        if computer_choice == \"water\":\n",
    "            print(\"You win! Snake drank water.\")\n",
    "        else:\n",
    "            print(\"You lose! Gun shot snake.\")\n",
    "    elif user_choice == \"water\":\n",
    "        if computer_choice == \"gun\":\n",
    "            print(\"You win! Gun got wet.\")\n",
    "        else:\n",
    "            print(\"You lose! Snake drank water.\")\n",
    "    else:  # user_choice == \"gun\"\n",
    "        if computer_choice == \"snake\":\n",
    "            print(\"You win! Gun shot snake.\")\n",
    "        else:\n",
    "            print(\"You lose! Gun got wet.\")\n",
    "\n",
    "# Run the game\n",
    "game()\n",
    "\n",
    "    "
   ]
  },
  {
   "cell_type": "code",
   "execution_count": 20,
   "id": "ad3408f0",
   "metadata": {},
   "outputs": [
    {
     "name": "stdout",
     "output_type": "stream",
     "text": [
      "Prasant\n",
      "<__main__.Student object at 0x000001CC949C43D0>\n",
      "<__main__.Student object at 0x000001CC949C43D0>\n"
     ]
    }
   ],
   "source": [
    "class Student:\n",
    "    name  = \"priti\"\n",
    "    def __init__(self):\n",
    "        \n",
    "        print(\"Prasant\")\n",
    "        print(self)\n",
    "s1 = Student()\n",
    "print(s1)"
   ]
  },
  {
   "cell_type": "code",
   "execution_count": 28,
   "id": "75556ee0",
   "metadata": {},
   "outputs": [
    {
     "name": "stdout",
     "output_type": "stream",
     "text": [
      "adding new student in database\n",
      "karan 97\n",
      "adding new student in database\n",
      "priya 98\n"
     ]
    }
   ],
   "source": [
    "class Student:\n",
    "    def __init__(self): # default constructor\n",
    "        pass\n",
    "    # parameterized constructors\n",
    "    \n",
    "    def __init__(self, fullname, marks):\n",
    "        self.name = fullname\n",
    "        self.marks = marks\n",
    "        print(\"adding new student in database\")\n",
    "s1 = Student(\"karan\", 97)  \n",
    "print(s1.name, s1.marks)\n",
    "s2 = Student(\"priya\",98)\n",
    "print(s2.name, s2.marks)\n"
   ]
  },
  {
   "cell_type": "code",
   "execution_count": null,
   "id": "b73ad178",
   "metadata": {},
   "outputs": [],
   "source": []
  }
 ],
 "metadata": {
  "kernelspec": {
   "display_name": "Python 3 (ipykernel)",
   "language": "python",
   "name": "python3"
  },
  "language_info": {
   "codemirror_mode": {
    "name": "ipython",
    "version": 3
   },
   "file_extension": ".py",
   "mimetype": "text/x-python",
   "name": "python",
   "nbconvert_exporter": "python",
   "pygments_lexer": "ipython3",
   "version": "3.11.5"
  }
 },
 "nbformat": 4,
 "nbformat_minor": 5
}
