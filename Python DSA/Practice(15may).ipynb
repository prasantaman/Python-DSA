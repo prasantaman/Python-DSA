{
 "cells": [
  {
   "cell_type": "code",
   "execution_count": 3,
   "id": "d1ea77eb",
   "metadata": {},
   "outputs": [
    {
     "name": "stdout",
     "output_type": "stream",
     "text": [
      "Prasant\n",
      "<__main__.Student object at 0x000001BF17B145D0>\n"
     ]
    }
   ],
   "source": [
    "# del keyword in oops\n",
    "class Student:\n",
    "    def __init__(self,name):\n",
    "        self.name = name\n",
    "s1 = Student(\"Prasant\")  \n",
    "print(s1.name)\n",
    "del s1.name\n",
    "print(s1)"
   ]
  },
  {
   "cell_type": "code",
   "execution_count": 14,
   "id": "73febfe2",
   "metadata": {},
   "outputs": [
    {
     "name": "stdout",
     "output_type": "stream",
     "text": [
      "123\n",
      "aman\n",
      "<__main__.Account object at 0x000001BF17F93490>\n",
      "None\n"
     ]
    }
   ],
   "source": [
    "#\n",
    "class Account:\n",
    "    def __init__(self, acc_no, acc_pass):\n",
    "        self.acc_no = acc_no\n",
    "        self.__acc_pass = acc_pass\n",
    "    def reset_pass(self):\n",
    "        print(self.__acc_pass)\n",
    "        \n",
    "        print(self)\n",
    "acc1 = Account(\"123\", \"aman\")\n",
    "print(acc1.acc_no)\n",
    "print(acc1.reset_pass())\n",
    "print(acc1.acc_pass)\n",
    "\n",
    "\n",
    "    "
   ]
  },
  {
   "cell_type": "code",
   "execution_count": 23,
   "id": "b6b382a0",
   "metadata": {},
   "outputs": [
    {
     "name": "stdout",
     "output_type": "stream",
     "text": [
      "hello\n",
      "None\n"
     ]
    }
   ],
   "source": [
    "# encapsulation\n",
    "class person:\n",
    "    __name = \"anonymous\"\n",
    "    def __hello(self):\n",
    "        print(\"hello\")\n",
    "    def welcome(self):  \n",
    "        self.__hello()\n",
    "p = person()\n",
    "# print(p.name)\n",
    "print(p.welcome())      "
   ]
  },
  {
   "cell_type": "code",
   "execution_count": 26,
   "id": "dbe2229d",
   "metadata": {},
   "outputs": [
    {
     "name": "stdout",
     "output_type": "stream",
     "text": [
      "fortuner\n",
      "car started...\n",
      "None\n",
      "black\n"
     ]
    }
   ],
   "source": [
    "# inheritance\n",
    "class Car:\n",
    "    color = \"black\"\n",
    "    @staticmethod\n",
    "    def start():\n",
    "        print(\"car started...\")\n",
    "    @staticmethod\n",
    "    def stop():\n",
    "        print(\"car stopped.\")\n",
    "class ToyotaCar(Car):\n",
    "    def __init__(self, name):\n",
    "        self.name = name\n",
    "car1 = ToyotaCar(\"fortuner\")\n",
    "car2 = ToyotaCar(\"prius\")\n",
    "print(car1.name)\n",
    "print(car1.start())\n",
    "print(car1.color)\n",
    "    \n",
    "        "
   ]
  },
  {
   "cell_type": "code",
   "execution_count": 28,
   "id": "054d0728",
   "metadata": {},
   "outputs": [
    {
     "name": "stdout",
     "output_type": "stream",
     "text": [
      "Car started...\n"
     ]
    }
   ],
   "source": [
    "# single inheritance\n",
    "# Multi-level Ingeritance\n",
    "# Multiple Inheritance\n",
    "class Car:\n",
    "    @staticmethod\n",
    "    def start():\n",
    "        print(\"Car started...\")\n",
    "    @staticmethod\n",
    "    def stop():\n",
    "        print(\"Car stopped...\")\n",
    "class ToyotaCar(Car):\n",
    "    def __init__(self, brand):\n",
    "        self.brand = brand\n",
    "class fortuner(ToyotaCar):\n",
    "    def __init__(self, type):\n",
    "        self.type = type\n",
    "    \n",
    "        \n",
    "car1 = fortuner(\"diesel\")\n",
    "car1.start()\n"
   ]
  },
  {
   "cell_type": "code",
   "execution_count": 32,
   "id": "9c17b7e7",
   "metadata": {},
   "outputs": [
    {
     "name": "stdout",
     "output_type": "stream",
     "text": [
      "welcome to class A\n",
      "welcome to class b\n",
      "welcome to class C\n"
     ]
    }
   ],
   "source": [
    "class A:\n",
    "    varA = \"welcome to class A\"\n",
    "class B: \n",
    "    varB  = \"welcome to class b\"\n",
    "class C(A,B):\n",
    "    varC = \"welcome to class C\"\n",
    "c1 = C()\n",
    "print(c1.varA)\n",
    "print(c1.varB)\n",
    "print(c1.varC)\n",
    "\n"
   ]
  },
  {
   "cell_type": "code",
   "execution_count": 3,
   "id": "dab78e21",
   "metadata": {},
   "outputs": [
    {
     "name": "stdout",
     "output_type": "stream",
     "text": [
      "car started...\n",
      "electric\n"
     ]
    }
   ],
   "source": [
    "# Super Method: used to access methods of the parent class\n",
    "class Car:\n",
    "    def __init__(self, type):\n",
    "        self.type = type\n",
    "    @staticmethod\n",
    "    def start():\n",
    "        print(\"car started...\")\n",
    "    @staticmethod    \n",
    "    def stop():\n",
    "        print(\"car stopped...\")\n",
    "class ToyotaCar(Car):\n",
    "    def __init__(self, name, type):\n",
    "        super().__init__(type)\n",
    "        self.name = name\n",
    "        super().start()\n",
    "        \n",
    "        \n",
    "car1 = ToyotaCar(\"prius\",\"electric\")\n",
    "print(car1.type)       "
   ]
  },
  {
   "cell_type": "code",
   "execution_count": 5,
   "id": "47e76c19",
   "metadata": {},
   "outputs": [
    {
     "name": "stdout",
     "output_type": "stream",
     "text": [
      "Prasant\n",
      "anonymous\n"
     ]
    }
   ],
   "source": [
    "# class \n",
    "class Person:\n",
    "    name = \"anonymous\"\n",
    "    def changeName(self,name):\n",
    "        self.name = name # it's create an new name for objects\n",
    "p1 = Person()\n",
    "p1.changeName(\"Prasant\")\n",
    "print(p1.name)\n",
    "print(Person.name)"
   ]
  },
  {
   "cell_type": "code",
   "execution_count": 6,
   "id": "4d37c4d8",
   "metadata": {},
   "outputs": [
    {
     "name": "stdout",
     "output_type": "stream",
     "text": [
      "Prasant\n",
      "Prasant\n"
     ]
    }
   ],
   "source": [
    "class Person:\n",
    "    name = \"anonymous\"\n",
    "    def changeName(self,name):\n",
    "        Person.name = name # first method\n",
    "p1 = Person()\n",
    "p1.changeName(\"Prasant\")\n",
    "print(p1.name)\n",
    "print(Person.name)"
   ]
  },
  {
   "cell_type": "code",
   "execution_count": 8,
   "id": "8791a315",
   "metadata": {},
   "outputs": [
    {
     "name": "stdout",
     "output_type": "stream",
     "text": [
      "Prasant sahu\n",
      "Prasant sahu\n"
     ]
    }
   ],
   "source": [
    "class Person:\n",
    "    name = \"anonymous\"\n",
    "    def changeName(self,name):\n",
    "         self.__class__.name = \"Prasant sahu\"# first method\n",
    "p1 = Person()\n",
    "p1.changeName(\"Prasant\")\n",
    "print(p1.name)\n",
    "print(Person.name)"
   ]
  },
  {
   "cell_type": "code",
   "execution_count": 9,
   "id": "668911e6",
   "metadata": {},
   "outputs": [
    {
     "name": "stdout",
     "output_type": "stream",
     "text": [
      "Prasant sahu\n",
      "Prasant sahu\n"
     ]
    }
   ],
   "source": [
    "class Person:\n",
    "    name = \"anonymous\"\n",
    "    @classmethod  # decorator\n",
    "    def changeName(cls, name):\n",
    "        cls.name = name\n",
    "p = Person()\n",
    "p.changeName(\"Prasant sahu\")\n",
    "print(p.name)\n",
    "print(Person.name)\n",
    "    "
   ]
  },
  {
   "cell_type": "code",
   "execution_count": null,
   "id": "f72451cb",
   "metadata": {},
   "outputs": [],
   "source": [
    "# static method\n",
    "# class method(cls)\n",
    "# instance method(self)"
   ]
  },
  {
   "cell_type": "code",
   "execution_count": 17,
   "id": "b45f0aa7",
   "metadata": {},
   "outputs": [
    {
     "name": "stdout",
     "output_type": "stream",
     "text": [
      "98.0%\n",
      "86\n",
      "94.0%\n"
     ]
    }
   ],
   "source": [
    "# property decorator\n",
    "class Students:\n",
    "    def __init__(self, phy, chem, math):\n",
    "        self.phy = phy\n",
    "        self.chem = chem\n",
    "        self.math = math\n",
    "        self.percentage = str((self.phy+self.chem+self.math)/3)+ \"%\"\n",
    "    def calcPercentage(self):\n",
    "        self.percentage = str((self.phy+self.chem+self.math)/3)+ \"%\"\n",
    "\n",
    "stu1 = Students(98,97,99)\n",
    "print(stu1.percentage)\n",
    "stu1.phy = 86\n",
    "print(stu1.phy)\n",
    "stu1.calcPercentage()\n",
    "print(stu1.percentage)\n"
   ]
  },
  {
   "cell_type": "code",
   "execution_count": 27,
   "id": "603ccbbe",
   "metadata": {},
   "outputs": [
    {
     "name": "stdout",
     "output_type": "stream",
     "text": [
      "98.0%\n",
      "94.0%\n"
     ]
    }
   ],
   "source": [
    "class Students:\n",
    "    def __init__(self, phy, chem, math):\n",
    "        self.phy = phy\n",
    "        self.chem = chem\n",
    "        self.math = math\n",
    "#     def calcPercentage(self):\n",
    "#         self.percentage = str((self.phy+self.chem+self.math)/3)+ \"%\"\n",
    "    @property\n",
    "    def percentage(self):\n",
    "        return str((self.phy+self.chem+self.math)/3) + \"%\"\n",
    "stu1 = Students(98,97,99)\n",
    "print(stu1.percentage)\n",
    "stu1.phy = 86\n",
    "\n",
    "print(stu1.percentage)"
   ]
  },
  {
   "cell_type": "code",
   "execution_count": 38,
   "id": "ac85be6b",
   "metadata": {},
   "outputs": [
    {
     "name": "stdout",
     "output_type": "stream",
     "text": [
      "1 i + 3 j\n",
      "2 i + 4 j\n",
      "3 i + 7 j\n"
     ]
    }
   ],
   "source": [
    "# polymorphism: Operator Overloading: when the same operator is allowed \n",
    "# to have different meaning according to the context\n",
    "# @getter\n",
    "# @setter\n",
    "# example of complex number\n",
    "class Complex:\n",
    "    def __init__(self, real, img):\n",
    "        self.real = real\n",
    "        self.img = img\n",
    "    def showNumber(self):\n",
    "        print(self.real,\"i +\",self.img,\"j\")\n",
    "    def add(self, num2):\n",
    "        newReal = self.real + num2.real\n",
    "        newImg = self.img + num2.img\n",
    "        return Complex(newReal, newImg)\n",
    "        \n",
    "        \n",
    "num1 = Complex(1,3)\n",
    "num1.showNumber()\n",
    "num2 = Complex(2,4)\n",
    "num2.showNumber()\n",
    "num3 = num1.add(num2)\n",
    "num3.showNumber()\n",
    "\n",
    "\n",
    "#Dunder function(__)\n",
    "\n",
    "        \n"
   ]
  },
  {
   "cell_type": "code",
   "execution_count": 44,
   "id": "c6be10ac",
   "metadata": {},
   "outputs": [
    {
     "name": "stdout",
     "output_type": "stream",
     "text": [
      "1 i + 3 j\n",
      "2 i + 4 j\n",
      "3 i + 7 j\n",
      "-1 i + -1 j\n",
      "2 i + 12 j\n"
     ]
    }
   ],
   "source": [
    "class Complex:\n",
    "    def __init__(self, real, img):\n",
    "        self.real = real\n",
    "        self.img = img\n",
    "    def showNumber(self):\n",
    "        print(self.real,\"i +\",self.img,\"j\")\n",
    "    def __add__(self, num2):\n",
    "        newReal = self.real + num2.real\n",
    "        newImg = self.img + num2.img\n",
    "        return Complex(newReal, newImg)\n",
    "    def __sub__(self, num2):\n",
    "        newReal = self.real - num2.real\n",
    "        newImg = self.img - num2.img\n",
    "        return Complex(newReal, newImg)\n",
    "    def __mul__(self, num2):\n",
    "        newReal = self.real * num2.real\n",
    "        newImg = self.img * num2.img\n",
    "        return Complex(newReal, newImg)    \n",
    "        \n",
    "        \n",
    "num1 = Complex(1,3)\n",
    "num1.showNumber()\n",
    "num2 = Complex(2,4)\n",
    "num2.showNumber()\n",
    "num3 = num1 + num2\n",
    "num3.showNumber()\n",
    "num4 = num1-num2\n",
    "num4.showNumber()\n",
    "num5 = num1*num2\n",
    "num5.showNumber()\n"
   ]
  },
  {
   "cell_type": "code",
   "execution_count": 48,
   "id": "051627e3",
   "metadata": {},
   "outputs": [
    {
     "name": "stdout",
     "output_type": "stream",
     "text": [
      "1386.0\n",
      "132.0\n"
     ]
    }
   ],
   "source": [
    "#example Practice\n",
    "class circle:\n",
    "    def __init__(self,radius):\n",
    "        self.radius = radius\n",
    "    def area(self):\n",
    "        return (22/7)*self.radius**2\n",
    "    def perimeter(self):\n",
    "        return 2*(22/7)*self.radius\n",
    "c1 = circle(21)\n",
    "print(c1.area())\n",
    "print(c1.perimeter())"
   ]
  },
  {
   "cell_type": "code",
   "execution_count": 56,
   "id": "b307a649",
   "metadata": {},
   "outputs": [
    {
     "name": "stdout",
     "output_type": "stream",
     "text": [
      "role -  engineer\n",
      "dept -  IT\n",
      "salary -  1,00,000\n"
     ]
    }
   ],
   "source": [
    "# second example\n",
    "class employee:\n",
    "    def __init__(self, role, dept, salary):\n",
    "        self.role = role\n",
    "        self.dept = dept\n",
    "        self.salary = salary\n",
    "    def showDetail(self):\n",
    "        print(\"role - \", self.role)\n",
    "        print(\"dept - \", self.dept)\n",
    "        print(\"salary - \", self.salary)\n",
    "class Engineer(employee):\n",
    "    def __init__(self, name ,age):\n",
    "        self.name = name\n",
    "        self.age = age\n",
    "        super().__init__(\"engineer\", \"IT\", \"1,00,000\")\n",
    "eng1 = Engineer(\"Prasant\", \"400000\")        \n",
    "eng1.showDetail()"
   ]
  },
  {
   "cell_type": "code",
   "execution_count": 59,
   "id": "28fb09a9",
   "metadata": {},
   "outputs": [
    {
     "name": "stdout",
     "output_type": "stream",
     "text": [
      "False\n",
      "True\n"
     ]
    }
   ],
   "source": [
    "class Order:\n",
    "    def __init__(self,item, price):\n",
    "        self.item = item\n",
    "        self.price = price\n",
    "    def __gt__(self, ord2):\n",
    "        return self.price>ord2.price\n",
    "ord1 = Order(\"chips\", 20)\n",
    "ord2 = Order(\"tea\", 10)\n",
    "print(ord2>ord1)\n",
    "print(ord1>ord2)\n",
    "\n",
    "        \n",
    "        "
   ]
  },
  {
   "cell_type": "code",
   "execution_count": 76,
   "id": "1e88cf48",
   "metadata": {},
   "outputs": [
    {
     "name": "stdout",
     "output_type": "stream",
     "text": [
      "entr an target number: 50\n",
      "your number was big. Take an smaller number for guess \n",
      "entr an target number: 25\n",
      "your number was small. Take an bigger number guess\n",
      "entr an target number: 35\n",
      "your number was big. Take an smaller number for guess \n",
      "entr an target number: 45\n",
      "your number was big. Take an smaller number for guess \n",
      "entr an target number: 40\n",
      "your number was big. Take an smaller number for guess \n",
      "entr an target number: 33\n",
      "your number was big. Take an smaller number for guess \n",
      "entr an target number: 32\n",
      "your number was big. Take an smaller number for guess \n",
      "entr an target number: 31\n",
      "your number was big. Take an smaller number for guess \n",
      "entr an target number: 30\n",
      "your number was big. Take an smaller number for guess \n",
      "entr an target number: 25\n",
      "your number was small. Take an bigger number guess\n",
      "entr an target number: 26\n",
      "your number was small. Take an bigger number guess\n",
      "entr an target number: 27\n",
      "your number was small. Take an bigger number guess\n",
      "entr an target number: 28\n",
      "your number was small. Take an bigger number guess\n",
      "entr an target number: 29\n",
      "Success : Correct Guess....\n",
      "----------GAME OVER------------\n"
     ]
    }
   ],
   "source": [
    "# mini Projects\n",
    "# guess the number\n",
    "import random\n",
    "target = random.randint(1,100)\n",
    "while True:\n",
    "    userChoice = int(input(\"entr an target number: \"))\n",
    "    if(userChoice == target):\n",
    "        print(\"Success : Correct Guess....\")\n",
    "        break\n",
    "    elif(userChoice<target):\n",
    "        print(\"your number was small. Take an bigger number guess\")\n",
    "    else:\n",
    "        print(\"your number was big. Take an smaller number for guess \")\n",
    "print(\"----------GAME OVER------------\")       "
   ]
  },
  {
   "cell_type": "code",
   "execution_count": 88,
   "id": "1d91c757",
   "metadata": {},
   "outputs": [
    {
     "name": "stdout",
     "output_type": "stream",
     "text": [
      "your random password is:  jD.[tIeKhJ'a\n"
     ]
    }
   ],
   "source": [
    "# random password generator\n",
    "import random\n",
    "import string \n",
    "pass_len = 12\n",
    "charValues = string.ascii_letters + string.digits + string.punctuation\n",
    "password = \"\"\n",
    "for i in range(pass_len):\n",
    "     password+=random.choice(charValues)\n",
    "        \n",
    "print(\"your random password is: \", password)    \n"
   ]
  },
  {
   "cell_type": "code",
   "execution_count": 82,
   "id": "a4bc576a",
   "metadata": {},
   "outputs": [
    {
     "name": "stdout",
     "output_type": "stream",
     "text": [
      "abcdefghijklmnopqrstuvwxyzABCDEFGHIJKLMNOPQRSTUVWXYZ\n",
      "abcdefghijklmnopqrstuvwxyz\n",
      "ABCDEFGHIJKLMNOPQRSTUVWXYZ\n",
      "0123456789\n",
      "!\"#$%&'()*+,-./:;<=>?@[\\]^_`{|}~\n"
     ]
    }
   ],
   "source": [
    "import string \n",
    "print(string.ascii_letters)\n",
    "print(string.ascii_lowercase)\n",
    "print(string.ascii_uppercase)\n",
    "print(string.digits)\n",
    "print(string.punctuation)"
   ]
  },
  {
   "cell_type": "markdown",
   "id": "62497833",
   "metadata": {},
   "source": [
    "# Tuple"
   ]
  },
  {
   "cell_type": "code",
   "execution_count": 4,
   "id": "1f1a1d86",
   "metadata": {},
   "outputs": [
    {
     "name": "stdout",
     "output_type": "stream",
     "text": [
      "(2, 4, 6, 2)\n"
     ]
    }
   ],
   "source": [
    "# filtering a tuple \n",
    "a = (2,3,4,5,6,2,3)\n",
    "filtering_tuple = tuple(item for item in a if item %2 ==0)\n",
    "print(filtering_tuple)"
   ]
  },
  {
   "cell_type": "code",
   "execution_count": 5,
   "id": "1aa53e19",
   "metadata": {},
   "outputs": [
    {
     "name": "stdout",
     "output_type": "stream",
     "text": [
      "(3, 5, 3)\n"
     ]
    }
   ],
   "source": [
    "filtering_tuple = tuple(item for item in a if item % 2!=0)\n",
    "print(filtering_tuple)"
   ]
  },
  {
   "cell_type": "code",
   "execution_count": 8,
   "id": "3d61c47e",
   "metadata": {},
   "outputs": [
    {
     "name": "stdout",
     "output_type": "stream",
     "text": [
      "(4, 9, 16, 25, 36, 4, 9)\n"
     ]
    }
   ],
   "source": [
    "a = tuple(item ** 2 for item in a)\n",
    "print(a)"
   ]
  },
  {
   "cell_type": "code",
   "execution_count": 11,
   "id": "a801318d",
   "metadata": {},
   "outputs": [
    {
     "name": "stdout",
     "output_type": "stream",
     "text": [
      "Not present\n"
     ]
    }
   ],
   "source": [
    "a = (2,3,4,5,6,2,3)\n",
    "x = 10\n",
    "if x in a:\n",
    "    print(\"Value is present in tuple\")\n",
    "else: \n",
    "    print(\"Not present\")"
   ]
  },
  {
   "cell_type": "code",
   "execution_count": null,
   "id": "6e6ab928",
   "metadata": {},
   "outputs": [],
   "source": [
    "# conditional Tuple assignment\n",
    "score = 75\n"
   ]
  },
  {
   "cell_type": "code",
   "execution_count": 17,
   "id": "ba90cc0f",
   "metadata": {},
   "outputs": [
    {
     "name": "stdout",
     "output_type": "stream",
     "text": [
      "1\n",
      "2\n",
      "3\n",
      "4\n",
      "5\n",
      "12\n",
      "13\n"
     ]
    }
   ],
   "source": [
    "a = (1,2,3,4,5,12,13)\n",
    "i = 0\n",
    "while i< len(a):\n",
    "    print(a[i])\n",
    "    i+=1"
   ]
  },
  {
   "cell_type": "code",
   "execution_count": 18,
   "id": "83c92bf1",
   "metadata": {},
   "outputs": [
    {
     "name": "stdout",
     "output_type": "stream",
     "text": [
      "('apple', 'banana', 'cherry', 'apple', 'banana', 'cherry')\n"
     ]
    }
   ],
   "source": [
    "a = (\"apple\", \"banana\", \"cherry\")\n",
    "print(a*2)"
   ]
  },
  {
   "cell_type": "code",
   "execution_count": null,
   "id": "0157e8fd",
   "metadata": {},
   "outputs": [],
   "source": []
  }
 ],
 "metadata": {
  "kernelspec": {
   "display_name": "Python 3 (ipykernel)",
   "language": "python",
   "name": "python3"
  },
  "language_info": {
   "codemirror_mode": {
    "name": "ipython",
    "version": 3
   },
   "file_extension": ".py",
   "mimetype": "text/x-python",
   "name": "python",
   "nbconvert_exporter": "python",
   "pygments_lexer": "ipython3",
   "version": "3.11.5"
  }
 },
 "nbformat": 4,
 "nbformat_minor": 5
}
